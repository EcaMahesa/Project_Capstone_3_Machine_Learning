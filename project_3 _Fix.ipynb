{
 "cells": [
  {
   "cell_type": "code",
   "execution_count": 28,
   "metadata": {},
   "outputs": [],
   "source": [
    "# pip install xgboost"
   ]
  },
  {
   "cell_type": "code",
   "execution_count": 29,
   "metadata": {},
   "outputs": [],
   "source": [
    "\n",
    "import numpy as np \n",
    "import pandas as pd \n",
    "import matplotlib.pyplot as plt \n",
    "import seaborn as sns\n",
    "\n",
    "from sklearn import metrics\n",
    "from sklearn.model_selection import train_test_split\n",
    "\n",
    "# Preprocessing\n",
    "from category_encoders import OrdinalEncoder, BinaryEncoder\n",
    "from sklearn.preprocessing import OneHotEncoder\n",
    "from sklearn.impute import SimpleImputer\n",
    "from sklearn.experimental import enable_iterative_imputer\n",
    "from sklearn.impute import IterativeImputer\n",
    "from sklearn.preprocessing import StandardScaler, RobustScaler, MinMaxScaler, PolynomialFeatures\n",
    "\n",
    "from imblearn.over_sampling import RandomOverSampler, SMOTE\n",
    "from imblearn.under_sampling import RandomUnderSampler, NearMiss\n",
    "\n",
    "from imblearn.pipeline import Pipeline\n",
    "from sklearn.compose import ColumnTransformer\n",
    "\n",
    "# Model\n",
    "from sklearn.linear_model import LogisticRegression\n",
    "from sklearn.neighbors import KNeighborsClassifier\n",
    "from sklearn.tree import DecisionTreeClassifier\n",
    "\n",
    "# Metric\n",
    "from sklearn.model_selection import cross_val_score, StratifiedKFold, cross_val_predict\n",
    "from sklearn.model_selection import GridSearchCV, RandomizedSearchCV\n",
    "from sklearn.metrics import accuracy_score, confusion_matrix, recall_score, precision_score, classification_report, f1_score, make_scorer, fbeta_score\n",
    "from sklearn.metrics import roc_curve, roc_auc_score, precision_recall_curve, average_precision_score\n",
    "\n",
    "from scipy.stats import kruskal, mannwhitneyu\n",
    "\n",
    "from sklearn.ensemble import StackingClassifier, VotingClassifier,BaggingClassifier, RandomForestClassifier, AdaBoostClassifier,GradientBoostingClassifier\n",
    "from xgboost.sklearn import XGBClassifier\n",
    "\n",
    "\n",
    "import warnings\n",
    "warnings.filterwarnings('ignore')"
   ]
  },
  {
   "attachments": {},
   "cell_type": "markdown",
   "metadata": {},
   "source": [
    "Hotel Booking Demand\n",
    "Context\n",
    "This data set contains booking information for a hotel located in Portugal, and includes information regarding room reservation for respective customers.\n",
    "All personally identifying information has been removed from the data."
   ]
  },
  {
   "attachments": {},
   "cell_type": "markdown",
   "metadata": {},
   "source": [
    "| Column Name | Description |\n",
    "|-------------|-------------|\n",
    "| country | Country of origin |\n",
    "| market_segment | Market segment designation |\n",
    "| previous_cancellations | Number of previous bookings cancelled by customer |\n",
    "| booking_changes | Number of changes made to booking |\n",
    "| deposit_type | Indication of deposit made to guarantee booking |\n",
    "| days_in_waiting_list | Number of days booking was in waiting list |\n",
    "| customer_type | Type of booking |\n",
    "| reserved_room_type | Code of room type reserved |\n",
    "| required_car_parking_space | Number of required car parking spaces |\n",
    "| total_of_special_request | Number of special requests made by customer |\n",
    "| is_canceled | Indicates if booking was canceled (1) or not (0) |\n"
   ]
  },
  {
   "attachments": {},
   "cell_type": "markdown",
   "metadata": {},
   "source": [
    "Identifying Business Problem\n",
    "\n",
    "- False Negative: The prediction was that the customer would not cancel, but they did cancel.\n",
    "- False Positive: The prediction was that the customer would cancel, but they did not cancel.\n",
    "- True Negative: The prediction was that the customer would not cancel, and they did not cancel.\n",
    "- True Positive: The prediction was that the customer would cancel, and they actually did cancel.\n",
    "\n",
    "    - False Negative cost: $140\n",
    "    - False Positive cost: 0\n",
    "\n",
    "A false negative could result in a loss of revenue if the room is not resold or relisted in time On the other hand, a false positive may result in inconvenience or frustration for the customer, but it is unlikely to have a significant impact on the overall business."
   ]
  },
  {
   "attachments": {},
   "cell_type": "markdown",
   "metadata": {},
   "source": [
    "Code below is for data load, we're using csv file of data_hotel_booking_demand"
   ]
  },
  {
   "cell_type": "code",
   "execution_count": 30,
   "metadata": {},
   "outputs": [],
   "source": [
    "df = pd.read_csv('data_hotel_booking_demand.csv')"
   ]
  },
  {
   "attachments": {},
   "cell_type": "markdown",
   "metadata": {},
   "source": [
    "Code below is for checking the missing data in country columns"
   ]
  },
  {
   "cell_type": "code",
   "execution_count": 31,
   "metadata": {},
   "outputs": [],
   "source": [
    "kolom_country_kosong = df[df['country'].isna()].index"
   ]
  },
  {
   "cell_type": "code",
   "execution_count": 32,
   "metadata": {},
   "outputs": [
    {
     "data": {
      "text/html": [
       "<div>\n",
       "<style scoped>\n",
       "    .dataframe tbody tr th:only-of-type {\n",
       "        vertical-align: middle;\n",
       "    }\n",
       "\n",
       "    .dataframe tbody tr th {\n",
       "        vertical-align: top;\n",
       "    }\n",
       "\n",
       "    .dataframe thead th {\n",
       "        text-align: right;\n",
       "    }\n",
       "</style>\n",
       "<table border=\"1\" class=\"dataframe\">\n",
       "  <thead>\n",
       "    <tr style=\"text-align: right;\">\n",
       "      <th></th>\n",
       "      <th>country</th>\n",
       "      <th>market_segment</th>\n",
       "      <th>previous_cancellations</th>\n",
       "      <th>booking_changes</th>\n",
       "      <th>deposit_type</th>\n",
       "      <th>days_in_waiting_list</th>\n",
       "      <th>customer_type</th>\n",
       "      <th>reserved_room_type</th>\n",
       "      <th>required_car_parking_spaces</th>\n",
       "      <th>total_of_special_requests</th>\n",
       "      <th>is_canceled</th>\n",
       "    </tr>\n",
       "  </thead>\n",
       "  <tbody>\n",
       "    <tr>\n",
       "      <th>814</th>\n",
       "      <td>NaN</td>\n",
       "      <td>Offline TA/TO</td>\n",
       "      <td>0</td>\n",
       "      <td>0</td>\n",
       "      <td>No Deposit</td>\n",
       "      <td>0</td>\n",
       "      <td>Transient-Party</td>\n",
       "      <td>A</td>\n",
       "      <td>0</td>\n",
       "      <td>0</td>\n",
       "      <td>0</td>\n",
       "    </tr>\n",
       "    <tr>\n",
       "      <th>1166</th>\n",
       "      <td>NaN</td>\n",
       "      <td>Direct</td>\n",
       "      <td>2</td>\n",
       "      <td>0</td>\n",
       "      <td>No Deposit</td>\n",
       "      <td>0</td>\n",
       "      <td>Transient</td>\n",
       "      <td>E</td>\n",
       "      <td>0</td>\n",
       "      <td>3</td>\n",
       "      <td>1</td>\n",
       "    </tr>\n",
       "    <tr>\n",
       "      <th>1304</th>\n",
       "      <td>NaN</td>\n",
       "      <td>Direct</td>\n",
       "      <td>0</td>\n",
       "      <td>1</td>\n",
       "      <td>No Deposit</td>\n",
       "      <td>0</td>\n",
       "      <td>Transient</td>\n",
       "      <td>D</td>\n",
       "      <td>0</td>\n",
       "      <td>1</td>\n",
       "      <td>0</td>\n",
       "    </tr>\n",
       "    <tr>\n",
       "      <th>1661</th>\n",
       "      <td>NaN</td>\n",
       "      <td>Corporate</td>\n",
       "      <td>0</td>\n",
       "      <td>0</td>\n",
       "      <td>No Deposit</td>\n",
       "      <td>0</td>\n",
       "      <td>Transient</td>\n",
       "      <td>A</td>\n",
       "      <td>0</td>\n",
       "      <td>0</td>\n",
       "      <td>0</td>\n",
       "    </tr>\n",
       "    <tr>\n",
       "      <th>2182</th>\n",
       "      <td>NaN</td>\n",
       "      <td>Corporate</td>\n",
       "      <td>0</td>\n",
       "      <td>0</td>\n",
       "      <td>No Deposit</td>\n",
       "      <td>0</td>\n",
       "      <td>Transient</td>\n",
       "      <td>A</td>\n",
       "      <td>0</td>\n",
       "      <td>0</td>\n",
       "      <td>0</td>\n",
       "    </tr>\n",
       "    <tr>\n",
       "      <th>...</th>\n",
       "      <td>...</td>\n",
       "      <td>...</td>\n",
       "      <td>...</td>\n",
       "      <td>...</td>\n",
       "      <td>...</td>\n",
       "      <td>...</td>\n",
       "      <td>...</td>\n",
       "      <td>...</td>\n",
       "      <td>...</td>\n",
       "      <td>...</td>\n",
       "      <td>...</td>\n",
       "    </tr>\n",
       "    <tr>\n",
       "      <th>82466</th>\n",
       "      <td>NaN</td>\n",
       "      <td>Offline TA/TO</td>\n",
       "      <td>0</td>\n",
       "      <td>0</td>\n",
       "      <td>No Deposit</td>\n",
       "      <td>0</td>\n",
       "      <td>Transient</td>\n",
       "      <td>A</td>\n",
       "      <td>0</td>\n",
       "      <td>0</td>\n",
       "      <td>0</td>\n",
       "    </tr>\n",
       "    <tr>\n",
       "      <th>83084</th>\n",
       "      <td>NaN</td>\n",
       "      <td>Corporate</td>\n",
       "      <td>0</td>\n",
       "      <td>0</td>\n",
       "      <td>No Deposit</td>\n",
       "      <td>0</td>\n",
       "      <td>Transient</td>\n",
       "      <td>A</td>\n",
       "      <td>0</td>\n",
       "      <td>0</td>\n",
       "      <td>0</td>\n",
       "    </tr>\n",
       "    <tr>\n",
       "      <th>83106</th>\n",
       "      <td>NaN</td>\n",
       "      <td>Direct</td>\n",
       "      <td>0</td>\n",
       "      <td>0</td>\n",
       "      <td>No Deposit</td>\n",
       "      <td>0</td>\n",
       "      <td>Transient</td>\n",
       "      <td>A</td>\n",
       "      <td>0</td>\n",
       "      <td>2</td>\n",
       "      <td>0</td>\n",
       "    </tr>\n",
       "    <tr>\n",
       "      <th>83353</th>\n",
       "      <td>NaN</td>\n",
       "      <td>Direct</td>\n",
       "      <td>0</td>\n",
       "      <td>0</td>\n",
       "      <td>No Deposit</td>\n",
       "      <td>0</td>\n",
       "      <td>Transient</td>\n",
       "      <td>A</td>\n",
       "      <td>0</td>\n",
       "      <td>0</td>\n",
       "      <td>0</td>\n",
       "    </tr>\n",
       "    <tr>\n",
       "      <th>83426</th>\n",
       "      <td>NaN</td>\n",
       "      <td>Direct</td>\n",
       "      <td>0</td>\n",
       "      <td>2</td>\n",
       "      <td>No Deposit</td>\n",
       "      <td>0</td>\n",
       "      <td>Transient</td>\n",
       "      <td>A</td>\n",
       "      <td>0</td>\n",
       "      <td>1</td>\n",
       "      <td>0</td>\n",
       "    </tr>\n",
       "  </tbody>\n",
       "</table>\n",
       "<p>351 rows × 11 columns</p>\n",
       "</div>"
      ],
      "text/plain": [
       "      country market_segment  previous_cancellations  booking_changes  \\\n",
       "814       NaN  Offline TA/TO                       0                0   \n",
       "1166      NaN         Direct                       2                0   \n",
       "1304      NaN         Direct                       0                1   \n",
       "1661      NaN      Corporate                       0                0   \n",
       "2182      NaN      Corporate                       0                0   \n",
       "...       ...            ...                     ...              ...   \n",
       "82466     NaN  Offline TA/TO                       0                0   \n",
       "83084     NaN      Corporate                       0                0   \n",
       "83106     NaN         Direct                       0                0   \n",
       "83353     NaN         Direct                       0                0   \n",
       "83426     NaN         Direct                       0                2   \n",
       "\n",
       "      deposit_type  days_in_waiting_list    customer_type reserved_room_type  \\\n",
       "814     No Deposit                     0  Transient-Party                  A   \n",
       "1166    No Deposit                     0        Transient                  E   \n",
       "1304    No Deposit                     0        Transient                  D   \n",
       "1661    No Deposit                     0        Transient                  A   \n",
       "2182    No Deposit                     0        Transient                  A   \n",
       "...            ...                   ...              ...                ...   \n",
       "82466   No Deposit                     0        Transient                  A   \n",
       "83084   No Deposit                     0        Transient                  A   \n",
       "83106   No Deposit                     0        Transient                  A   \n",
       "83353   No Deposit                     0        Transient                  A   \n",
       "83426   No Deposit                     0        Transient                  A   \n",
       "\n",
       "       required_car_parking_spaces  total_of_special_requests  is_canceled  \n",
       "814                              0                          0            0  \n",
       "1166                             0                          3            1  \n",
       "1304                             0                          1            0  \n",
       "1661                             0                          0            0  \n",
       "2182                             0                          0            0  \n",
       "...                            ...                        ...          ...  \n",
       "82466                            0                          0            0  \n",
       "83084                            0                          0            0  \n",
       "83106                            0                          2            0  \n",
       "83353                            0                          0            0  \n",
       "83426                            0                          1            0  \n",
       "\n",
       "[351 rows x 11 columns]"
      ]
     },
     "execution_count": 32,
     "metadata": {},
     "output_type": "execute_result"
    }
   ],
   "source": [
    "df.loc[kolom_country_kosong]"
   ]
  },
  {
   "attachments": {},
   "cell_type": "markdown",
   "metadata": {},
   "source": [
    "Code below is for checking the number of unique country"
   ]
  },
  {
   "cell_type": "code",
   "execution_count": 33,
   "metadata": {},
   "outputs": [
    {
     "data": {
      "text/plain": [
       "162"
      ]
     },
     "execution_count": 33,
     "metadata": {},
     "output_type": "execute_result"
    }
   ],
   "source": [
    "df['country'].nunique()"
   ]
  },
  {
   "attachments": {},
   "cell_type": "markdown",
   "metadata": {},
   "source": [
    "Code Below is for checking whether the target is imbalance or not"
   ]
  },
  {
   "cell_type": "code",
   "execution_count": 34,
   "metadata": {},
   "outputs": [
    {
     "data": {
      "text/plain": [
       "0    52795\n",
       "1    30778\n",
       "Name: is_canceled, dtype: int64"
      ]
     },
     "execution_count": 34,
     "metadata": {},
     "output_type": "execute_result"
    }
   ],
   "source": [
    "df['is_canceled'].value_counts()"
   ]
  },
  {
   "attachments": {},
   "cell_type": "markdown",
   "metadata": {},
   "source": [
    "# EDA"
   ]
  },
  {
   "attachments": {},
   "cell_type": "markdown",
   "metadata": {},
   "source": [
    "Code Below is for getting the columns that are categorical"
   ]
  },
  {
   "cell_type": "code",
   "execution_count": 35,
   "metadata": {},
   "outputs": [
    {
     "data": {
      "text/plain": [
       "['country',\n",
       " 'market_segment',\n",
       " 'deposit_type',\n",
       " 'customer_type',\n",
       " 'reserved_room_type']"
      ]
     },
     "execution_count": 35,
     "metadata": {},
     "output_type": "execute_result"
    }
   ],
   "source": [
    "category_columns = [feature for feature in df.columns if (df[feature].dtypes == 'O')]\n",
    "category_columns"
   ]
  },
  {
   "attachments": {},
   "cell_type": "markdown",
   "metadata": {},
   "source": [
    "this code below is for getting the unique values of the categorical column, which we loop to get all the columns unique values at once"
   ]
  },
  {
   "cell_type": "code",
   "execution_count": 36,
   "metadata": {},
   "outputs": [
    {
     "name": "stdout",
     "output_type": "stream",
     "text": [
      "Total unique values in country:  162\n",
      "Unique values:  ['IRL' 'FRA' 'PRT' 'NLD' 'ESP' 'UMI' 'CN' 'LUX' 'BRA' 'BEL' 'JPN' 'DEU'\n",
      " 'ITA' 'CHE' 'GBR' 'AGO' 'SRB' 'COL' 'CHN' 'SWE' 'AUT' 'CIV' 'CZE' 'POL'\n",
      " 'USA' 'SGP' 'RUS' 'ROU' 'DNK' 'IND' 'MAR' 'PHL' 'ARG' 'ISL' 'ZAF' 'LBN'\n",
      " 'MOZ' 'TUR' 'BGD' 'MEX' 'CAF' 'NOR' 'FIN' 'UKR' 'EGY' 'ISR' nan 'KOR'\n",
      " 'AZE' 'HUN' 'AUS' 'EST' 'CHL' 'SVN' 'PRY' 'ABW' 'ALB' 'LTU' 'ARE' 'HRV'\n",
      " 'SAU' 'NZL' 'LVA' 'ATA' 'KAZ' 'DZA' 'TWN' 'CRI' 'BIH' 'BGR' 'IRQ' 'OMN'\n",
      " 'VEN' 'IDN' 'GEO' 'MLT' 'IRN' 'BLR' 'URY' 'LBY' 'TUN' 'BEN' 'MYS' 'MWI'\n",
      " 'GRC' 'CYP' 'CPV' 'HKG' 'PRI' 'MKD' 'MUS' 'IMN' 'PAN' 'NGA' 'GLP' 'KHM'\n",
      " 'PER' 'QAT' 'SEN' 'MAC' 'SVK' 'BHR' 'ECU' 'SYC' 'BOL' 'TJK' 'LCA' 'MDV'\n",
      " 'SYR' 'ZMB' 'LIE' 'THA' 'MNE' 'BRB' 'CMR' 'JEY' 'GTM' 'LKA' 'JOR' 'TZA'\n",
      " 'AND' 'ARM' 'GIB' 'VNM' 'PAK' 'JAM' 'DOM' 'KWT' 'LAO' 'RWA' 'FRO' 'GAB'\n",
      " 'ETH' 'CUB' 'COM' 'GNB' 'GGY' 'NIC' 'TGO' 'TMP' 'CYM' 'GHA' 'SLE' 'BWA'\n",
      " 'NCL' 'UZB' 'SUR' 'SDN' 'PLW' 'MLI' 'MMR' 'BFA' 'SLV' 'BDI' 'ZWE' 'UGA'\n",
      " 'DMA' 'VGB' 'KIR' 'KEN' 'MYT' 'KNA' 'AIA']\n",
      "\n",
      "Total unique values in market_segment:  8\n",
      "Unique values:  ['Offline TA/TO' 'Online TA' 'Direct' 'Groups' 'Corporate' 'Complementary'\n",
      " 'Aviation' 'Undefined']\n",
      "\n",
      "Total unique values in deposit_type:  3\n",
      "Unique values:  ['No Deposit' 'Non Refund' 'Refundable']\n",
      "\n",
      "Total unique values in customer_type:  4\n",
      "Unique values:  ['Transient-Party' 'Transient' 'Contract' 'Group']\n",
      "\n",
      "Total unique values in reserved_room_type:  10\n",
      "Unique values:  ['A' 'E' 'D' 'F' 'B' 'G' 'C' 'H' 'L' 'P']\n",
      "\n"
     ]
    }
   ],
   "source": [
    "for i in category_columns:\n",
    "    print(f'Total unique values in {i}: ', df[i].nunique())\n",
    "    print(f'Unique values: ', df[i].unique())\n",
    "    print()"
   ]
  },
  {
   "attachments": {},
   "cell_type": "markdown",
   "metadata": {},
   "source": [
    "Country : will use Binary Encoder because there's so many unique values\n",
    "\n",
    "Market_segment : OneHot Encoder, Because there is no level of importance between each unique values, and because its just 8 unique values so we use Onehot\n",
    "\n",
    "Deposit Type : OneHot Encoder, Because there is no levels and just a few unique values\n",
    "\n",
    "Customer_type : OneHot Encoder, Because there is no levels and just a few unique values\n",
    "\n",
    "Reserved_room_type : Ordinal Encoder, we will use ordinal because there is levels between unique values"
   ]
  },
  {
   "attachments": {},
   "cell_type": "markdown",
   "metadata": {},
   "source": [
    "Code Below Drop the Undefined because its just 1 and because it will not be in test set, resultin in an error in the cross validation"
   ]
  },
  {
   "cell_type": "code",
   "execution_count": 37,
   "metadata": {},
   "outputs": [],
   "source": [
    "df = df[~(df['market_segment'] == 'Undefined')]"
   ]
  },
  {
   "attachments": {},
   "cell_type": "markdown",
   "metadata": {},
   "source": [
    "Code below is for checking the outliers of numerical columns with barplot, and im using looping to show it all at once"
   ]
  },
  {
   "cell_type": "code",
   "execution_count": 38,
   "metadata": {},
   "outputs": [
    {
     "data": {
      "image/png": "[encoded data removed]",
      "text/plain": [
       "<Figure size 1500x900 with 6 Axes>"
      ]
     },
     "metadata": {},
     "output_type": "display_data"
    }
   ],
   "source": [
    "# Numerical Features\n",
    "num_feature = [fea for fea in df.describe().columns]\n",
    "num_feature\n",
    "\n",
    "plt.figure(figsize=(15, 9), facecolor='white')\n",
    "sns.set(style='whitegrid', palette='Set3')\n",
    "plotnumber = 1\n",
    "    \n",
    "for feature in num_feature:\n",
    "    ax = plt.subplot(4,3, plotnumber)\n",
    "    sns.boxplot(x=feature, data=df);\n",
    "    plt.title(feature, fontsize=12)\n",
    "    plt.tight_layout()\n",
    "    plotnumber += 1"
   ]
  },
  {
   "attachments": {},
   "cell_type": "markdown",
   "metadata": {},
   "source": [
    "Days In Waiting List : drop outliers that the values is more than 130 because its too far\n",
    "\n",
    "I dont drop outliers from another columns because tha values directly correlate with the machine learning target"
   ]
  },
  {
   "cell_type": "code",
   "execution_count": 39,
   "metadata": {},
   "outputs": [
    {
     "data": {
      "text/plain": [
       "83572"
      ]
     },
     "execution_count": 39,
     "metadata": {},
     "output_type": "execute_result"
    }
   ],
   "source": [
    "len(df)"
   ]
  },
  {
   "attachments": {},
   "cell_type": "markdown",
   "metadata": {},
   "source": [
    "Dropping the waiting list outliers that are above 130 days waiting list"
   ]
  },
  {
   "cell_type": "code",
   "execution_count": 40,
   "metadata": {},
   "outputs": [],
   "source": [
    "\n",
    "df = df[~(df['days_in_waiting_list'] > 130)]"
   ]
  },
  {
   "attachments": {},
   "cell_type": "markdown",
   "metadata": {},
   "source": [
    "so after i dropped the outlier from the waiting list column, the data is cutdown from 83573 to 83233"
   ]
  },
  {
   "cell_type": "code",
   "execution_count": 41,
   "metadata": {},
   "outputs": [
    {
     "data": {
      "text/plain": [
       "83232"
      ]
     },
     "execution_count": 41,
     "metadata": {},
     "output_type": "execute_result"
    }
   ],
   "source": [
    "len(df)"
   ]
  },
  {
   "attachments": {},
   "cell_type": "markdown",
   "metadata": {},
   "source": [
    "# Define X and y"
   ]
  },
  {
   "cell_type": "code",
   "execution_count": 42,
   "metadata": {},
   "outputs": [
    {
     "data": {
      "text/html": [
       "<div>\n",
       "<style scoped>\n",
       "    .dataframe tbody tr th:only-of-type {\n",
       "        vertical-align: middle;\n",
       "    }\n",
       "\n",
       "    .dataframe tbody tr th {\n",
       "        vertical-align: top;\n",
       "    }\n",
       "\n",
       "    .dataframe thead th {\n",
       "        text-align: right;\n",
       "    }\n",
       "</style>\n",
       "<table border=\"1\" class=\"dataframe\">\n",
       "  <thead>\n",
       "    <tr style=\"text-align: right;\">\n",
       "      <th></th>\n",
       "      <th>country</th>\n",
       "      <th>market_segment</th>\n",
       "      <th>previous_cancellations</th>\n",
       "      <th>booking_changes</th>\n",
       "      <th>deposit_type</th>\n",
       "      <th>days_in_waiting_list</th>\n",
       "      <th>customer_type</th>\n",
       "      <th>reserved_room_type</th>\n",
       "      <th>required_car_parking_spaces</th>\n",
       "      <th>total_of_special_requests</th>\n",
       "      <th>is_canceled</th>\n",
       "    </tr>\n",
       "  </thead>\n",
       "  <tbody>\n",
       "    <tr>\n",
       "      <th>0</th>\n",
       "      <td>IRL</td>\n",
       "      <td>Offline TA/TO</td>\n",
       "      <td>0</td>\n",
       "      <td>0</td>\n",
       "      <td>No Deposit</td>\n",
       "      <td>0</td>\n",
       "      <td>Transient-Party</td>\n",
       "      <td>A</td>\n",
       "      <td>0</td>\n",
       "      <td>0</td>\n",
       "      <td>0</td>\n",
       "    </tr>\n",
       "    <tr>\n",
       "      <th>1</th>\n",
       "      <td>FRA</td>\n",
       "      <td>Online TA</td>\n",
       "      <td>0</td>\n",
       "      <td>0</td>\n",
       "      <td>No Deposit</td>\n",
       "      <td>0</td>\n",
       "      <td>Transient</td>\n",
       "      <td>A</td>\n",
       "      <td>0</td>\n",
       "      <td>2</td>\n",
       "      <td>0</td>\n",
       "    </tr>\n",
       "    <tr>\n",
       "      <th>2</th>\n",
       "      <td>PRT</td>\n",
       "      <td>Online TA</td>\n",
       "      <td>0</td>\n",
       "      <td>1</td>\n",
       "      <td>No Deposit</td>\n",
       "      <td>0</td>\n",
       "      <td>Transient</td>\n",
       "      <td>A</td>\n",
       "      <td>0</td>\n",
       "      <td>2</td>\n",
       "      <td>0</td>\n",
       "    </tr>\n",
       "    <tr>\n",
       "      <th>3</th>\n",
       "      <td>NLD</td>\n",
       "      <td>Online TA</td>\n",
       "      <td>0</td>\n",
       "      <td>0</td>\n",
       "      <td>No Deposit</td>\n",
       "      <td>0</td>\n",
       "      <td>Transient</td>\n",
       "      <td>A</td>\n",
       "      <td>0</td>\n",
       "      <td>1</td>\n",
       "      <td>1</td>\n",
       "    </tr>\n",
       "    <tr>\n",
       "      <th>4</th>\n",
       "      <td>PRT</td>\n",
       "      <td>Online TA</td>\n",
       "      <td>0</td>\n",
       "      <td>2</td>\n",
       "      <td>No Deposit</td>\n",
       "      <td>0</td>\n",
       "      <td>Transient</td>\n",
       "      <td>A</td>\n",
       "      <td>0</td>\n",
       "      <td>2</td>\n",
       "      <td>0</td>\n",
       "    </tr>\n",
       "    <tr>\n",
       "      <th>...</th>\n",
       "      <td>...</td>\n",
       "      <td>...</td>\n",
       "      <td>...</td>\n",
       "      <td>...</td>\n",
       "      <td>...</td>\n",
       "      <td>...</td>\n",
       "      <td>...</td>\n",
       "      <td>...</td>\n",
       "      <td>...</td>\n",
       "      <td>...</td>\n",
       "      <td>...</td>\n",
       "    </tr>\n",
       "    <tr>\n",
       "      <th>83568</th>\n",
       "      <td>PRT</td>\n",
       "      <td>Online TA</td>\n",
       "      <td>0</td>\n",
       "      <td>0</td>\n",
       "      <td>No Deposit</td>\n",
       "      <td>0</td>\n",
       "      <td>Contract</td>\n",
       "      <td>A</td>\n",
       "      <td>0</td>\n",
       "      <td>3</td>\n",
       "      <td>1</td>\n",
       "    </tr>\n",
       "    <tr>\n",
       "      <th>83569</th>\n",
       "      <td>FRA</td>\n",
       "      <td>Online TA</td>\n",
       "      <td>0</td>\n",
       "      <td>0</td>\n",
       "      <td>No Deposit</td>\n",
       "      <td>0</td>\n",
       "      <td>Transient</td>\n",
       "      <td>D</td>\n",
       "      <td>0</td>\n",
       "      <td>2</td>\n",
       "      <td>0</td>\n",
       "    </tr>\n",
       "    <tr>\n",
       "      <th>83570</th>\n",
       "      <td>PRT</td>\n",
       "      <td>Online TA</td>\n",
       "      <td>0</td>\n",
       "      <td>1</td>\n",
       "      <td>No Deposit</td>\n",
       "      <td>0</td>\n",
       "      <td>Transient</td>\n",
       "      <td>D</td>\n",
       "      <td>0</td>\n",
       "      <td>3</td>\n",
       "      <td>0</td>\n",
       "    </tr>\n",
       "    <tr>\n",
       "      <th>83571</th>\n",
       "      <td>CN</td>\n",
       "      <td>Offline TA/TO</td>\n",
       "      <td>0</td>\n",
       "      <td>0</td>\n",
       "      <td>No Deposit</td>\n",
       "      <td>0</td>\n",
       "      <td>Transient-Party</td>\n",
       "      <td>A</td>\n",
       "      <td>0</td>\n",
       "      <td>0</td>\n",
       "      <td>0</td>\n",
       "    </tr>\n",
       "    <tr>\n",
       "      <th>83572</th>\n",
       "      <td>PRT</td>\n",
       "      <td>Groups</td>\n",
       "      <td>0</td>\n",
       "      <td>0</td>\n",
       "      <td>Non Refund</td>\n",
       "      <td>0</td>\n",
       "      <td>Transient</td>\n",
       "      <td>A</td>\n",
       "      <td>0</td>\n",
       "      <td>0</td>\n",
       "      <td>1</td>\n",
       "    </tr>\n",
       "  </tbody>\n",
       "</table>\n",
       "<p>83232 rows × 11 columns</p>\n",
       "</div>"
      ],
      "text/plain": [
       "      country market_segment  previous_cancellations  booking_changes  \\\n",
       "0         IRL  Offline TA/TO                       0                0   \n",
       "1         FRA      Online TA                       0                0   \n",
       "2         PRT      Online TA                       0                1   \n",
       "3         NLD      Online TA                       0                0   \n",
       "4         PRT      Online TA                       0                2   \n",
       "...       ...            ...                     ...              ...   \n",
       "83568     PRT      Online TA                       0                0   \n",
       "83569     FRA      Online TA                       0                0   \n",
       "83570     PRT      Online TA                       0                1   \n",
       "83571      CN  Offline TA/TO                       0                0   \n",
       "83572     PRT         Groups                       0                0   \n",
       "\n",
       "      deposit_type  days_in_waiting_list    customer_type reserved_room_type  \\\n",
       "0       No Deposit                     0  Transient-Party                  A   \n",
       "1       No Deposit                     0        Transient                  A   \n",
       "2       No Deposit                     0        Transient                  A   \n",
       "3       No Deposit                     0        Transient                  A   \n",
       "4       No Deposit                     0        Transient                  A   \n",
       "...            ...                   ...              ...                ...   \n",
       "83568   No Deposit                     0         Contract                  A   \n",
       "83569   No Deposit                     0        Transient                  D   \n",
       "83570   No Deposit                     0        Transient                  D   \n",
       "83571   No Deposit                     0  Transient-Party                  A   \n",
       "83572   Non Refund                     0        Transient                  A   \n",
       "\n",
       "       required_car_parking_spaces  total_of_special_requests  is_canceled  \n",
       "0                                0                          0            0  \n",
       "1                                0                          2            0  \n",
       "2                                0                          2            0  \n",
       "3                                0                          1            1  \n",
       "4                                0                          2            0  \n",
       "...                            ...                        ...          ...  \n",
       "83568                            0                          3            1  \n",
       "83569                            0                          2            0  \n",
       "83570                            0                          3            0  \n",
       "83571                            0                          0            0  \n",
       "83572                            0                          0            1  \n",
       "\n",
       "[83232 rows x 11 columns]"
      ]
     },
     "execution_count": 42,
     "metadata": {},
     "output_type": "execute_result"
    }
   ],
   "source": [
    "df"
   ]
  },
  {
   "cell_type": "code",
   "execution_count": 43,
   "metadata": {},
   "outputs": [],
   "source": [
    "X = df.drop(columns='is_canceled')\n",
    "\n",
    "y = df['is_canceled']"
   ]
  },
  {
   "attachments": {},
   "cell_type": "markdown",
   "metadata": {},
   "source": [
    "# Data Splitting"
   ]
  },
  {
   "cell_type": "code",
   "execution_count": 44,
   "metadata": {},
   "outputs": [],
   "source": [
    "X_train, X_test, y_train, y_test = train_test_split(X,y,test_size=0.2,random_state=21,stratify=y)"
   ]
  },
  {
   "attachments": {},
   "cell_type": "markdown",
   "metadata": {},
   "source": [
    "# Pre-processing"
   ]
  },
  {
   "attachments": {},
   "cell_type": "markdown",
   "metadata": {},
   "source": [
    "Checking if there is any NaN value in the data, so we can preprocess it"
   ]
  },
  {
   "cell_type": "code",
   "execution_count": 45,
   "metadata": {},
   "outputs": [
    {
     "data": {
      "text/plain": [
       "country                        351\n",
       "market_segment                   0\n",
       "previous_cancellations           0\n",
       "booking_changes                  0\n",
       "deposit_type                     0\n",
       "days_in_waiting_list             0\n",
       "customer_type                    0\n",
       "reserved_room_type               0\n",
       "required_car_parking_spaces      0\n",
       "total_of_special_requests        0\n",
       "dtype: int64"
      ]
     },
     "execution_count": 45,
     "metadata": {},
     "output_type": "execute_result"
    }
   ],
   "source": [
    "X.isna().sum()"
   ]
  },
  {
   "attachments": {},
   "cell_type": "markdown",
   "metadata": {},
   "source": [
    "Checking if there is any duplicated data that we need to drop"
   ]
  },
  {
   "cell_type": "code",
   "execution_count": 46,
   "metadata": {},
   "outputs": [
    {
     "data": {
      "text/plain": [
       "74456"
      ]
     },
     "execution_count": 46,
     "metadata": {},
     "output_type": "execute_result"
    }
   ],
   "source": [
    "X.duplicated().sum()"
   ]
  },
  {
   "attachments": {},
   "cell_type": "markdown",
   "metadata": {},
   "source": [
    "After conducting a thorough review, it has been determined that the duplicated data is not the result of formatting or data errors. Additionally, it has been confirmed that the cross-validation results are stable, indicating that the presence of duplicated data does not contribute to overfitting. As a result, there is no need to remove the duplicated data."
   ]
  },
  {
   "attachments": {},
   "cell_type": "markdown",
   "metadata": {},
   "source": [
    "## Creating Pipeline and Column Transformer for pre-processing "
   ]
  },
  {
   "attachments": {},
   "cell_type": "markdown",
   "metadata": {},
   "source": [
    "Country : will use Binary Encoder because there's so many unique values\n",
    "\n",
    "Market_segment : OneHot Encoder, Because there is no level of importance between each unique values, and because its just 8 unique values so we use Onehot\n",
    "\n",
    "Deposit Type : OneHot Encoder, Because there is no levels and just a few unique values\n",
    "\n",
    "Customer_type : OneHot Encoder, Because there is no levels and just a few unique values\n",
    "\n",
    "Reserved_room_type : Onehot Encoder, Because there is no levels and just a few unique values"
   ]
  },
  {
   "cell_type": "code",
   "execution_count": 47,
   "metadata": {},
   "outputs": [
    {
     "data": {
      "text/html": [
       "<div>\n",
       "<style scoped>\n",
       "    .dataframe tbody tr th:only-of-type {\n",
       "        vertical-align: middle;\n",
       "    }\n",
       "\n",
       "    .dataframe tbody tr th {\n",
       "        vertical-align: top;\n",
       "    }\n",
       "\n",
       "    .dataframe thead th {\n",
       "        text-align: right;\n",
       "    }\n",
       "</style>\n",
       "<table border=\"1\" class=\"dataframe\">\n",
       "  <thead>\n",
       "    <tr style=\"text-align: right;\">\n",
       "      <th></th>\n",
       "      <th>previous_cancellations</th>\n",
       "      <th>booking_changes</th>\n",
       "      <th>days_in_waiting_list</th>\n",
       "      <th>required_car_parking_spaces</th>\n",
       "      <th>total_of_special_requests</th>\n",
       "    </tr>\n",
       "  </thead>\n",
       "  <tbody>\n",
       "    <tr>\n",
       "      <th>count</th>\n",
       "      <td>83232.000000</td>\n",
       "      <td>83232.000000</td>\n",
       "      <td>83232.000000</td>\n",
       "      <td>83232.000000</td>\n",
       "      <td>83232.000000</td>\n",
       "    </tr>\n",
       "    <tr>\n",
       "      <th>mean</th>\n",
       "      <td>0.087154</td>\n",
       "      <td>0.221237</td>\n",
       "      <td>1.442991</td>\n",
       "      <td>0.063257</td>\n",
       "      <td>0.575235</td>\n",
       "    </tr>\n",
       "    <tr>\n",
       "      <th>std</th>\n",
       "      <td>0.842713</td>\n",
       "      <td>0.649492</td>\n",
       "      <td>9.912189</td>\n",
       "      <td>0.247392</td>\n",
       "      <td>0.795958</td>\n",
       "    </tr>\n",
       "    <tr>\n",
       "      <th>min</th>\n",
       "      <td>0.000000</td>\n",
       "      <td>0.000000</td>\n",
       "      <td>0.000000</td>\n",
       "      <td>0.000000</td>\n",
       "      <td>0.000000</td>\n",
       "    </tr>\n",
       "    <tr>\n",
       "      <th>25%</th>\n",
       "      <td>0.000000</td>\n",
       "      <td>0.000000</td>\n",
       "      <td>0.000000</td>\n",
       "      <td>0.000000</td>\n",
       "      <td>0.000000</td>\n",
       "    </tr>\n",
       "    <tr>\n",
       "      <th>50%</th>\n",
       "      <td>0.000000</td>\n",
       "      <td>0.000000</td>\n",
       "      <td>0.000000</td>\n",
       "      <td>0.000000</td>\n",
       "      <td>0.000000</td>\n",
       "    </tr>\n",
       "    <tr>\n",
       "      <th>75%</th>\n",
       "      <td>0.000000</td>\n",
       "      <td>0.000000</td>\n",
       "      <td>0.000000</td>\n",
       "      <td>0.000000</td>\n",
       "      <td>1.000000</td>\n",
       "    </tr>\n",
       "    <tr>\n",
       "      <th>max</th>\n",
       "      <td>26.000000</td>\n",
       "      <td>21.000000</td>\n",
       "      <td>125.000000</td>\n",
       "      <td>8.000000</td>\n",
       "      <td>5.000000</td>\n",
       "    </tr>\n",
       "  </tbody>\n",
       "</table>\n",
       "</div>"
      ],
      "text/plain": [
       "       previous_cancellations  booking_changes  days_in_waiting_list  \\\n",
       "count            83232.000000     83232.000000          83232.000000   \n",
       "mean                 0.087154         0.221237              1.442991   \n",
       "std                  0.842713         0.649492              9.912189   \n",
       "min                  0.000000         0.000000              0.000000   \n",
       "25%                  0.000000         0.000000              0.000000   \n",
       "50%                  0.000000         0.000000              0.000000   \n",
       "75%                  0.000000         0.000000              0.000000   \n",
       "max                 26.000000        21.000000            125.000000   \n",
       "\n",
       "       required_car_parking_spaces  total_of_special_requests  \n",
       "count                 83232.000000               83232.000000  \n",
       "mean                      0.063257                   0.575235  \n",
       "std                       0.247392                   0.795958  \n",
       "min                       0.000000                   0.000000  \n",
       "25%                       0.000000                   0.000000  \n",
       "50%                       0.000000                   0.000000  \n",
       "75%                       0.000000                   1.000000  \n",
       "max                       8.000000                   5.000000  "
      ]
     },
     "execution_count": 47,
     "metadata": {},
     "output_type": "execute_result"
    }
   ],
   "source": [
    "X.describe()"
   ]
  },
  {
   "attachments": {},
   "cell_type": "markdown",
   "metadata": {},
   "source": [
    "Scaling: ['previous_cancellations','booking_changes','days_in_waiting_list','required_car_parking_spaces','total_of_special_requests']"
   ]
  },
  {
   "cell_type": "code",
   "execution_count": 48,
   "metadata": {},
   "outputs": [],
   "source": [
    "#Creating pipeline for country that we will fill the missing values with others using simpleimputer constant \n",
    "# binaryencoder because there's so many unqiue values\n",
    "\n",
    "pipe_const_binary = Pipeline([\n",
    "    ('const',SimpleImputer(strategy='constant',fill_value='Others')),\n",
    "    ('binary', BinaryEncoder())\n",
    "])\n",
    "\n",
    "#Creating pipeline for 'market_Segment','deposit_type','customer_type','reserved_room_type' column \n",
    "# that we will encode using onehot encoder\n",
    "\n",
    "pipe_onehot = Pipeline([\n",
    "    ('onehot',OneHotEncoder(drop='first'))\n",
    "])\n",
    "\n",
    "pipe_poly_scaling = Pipeline([\n",
    "    ('poly',PolynomialFeatures(degree=1)),\n",
    "    ('scaling',RobustScaler())\n",
    "])\n",
    "\n",
    "#Creating columnstransformer for the pipeline\n",
    "\n",
    "transformer = ColumnTransformer([\n",
    "    ('pipe_const_binary_scale',pipe_const_binary,['country']),\n",
    "    ('pipe_onehot',pipe_onehot,['market_segment','deposit_type','customer_type','reserved_room_type']),\n",
    "    ('pipe_poly_scaling',pipe_poly_scaling,['previous_cancellations','booking_changes','days_in_waiting_list','required_car_parking_spaces','total_of_special_requests'])\n",
    "],remainder='passthrough')\n",
    "\n"
   ]
  },
  {
   "attachments": {},
   "cell_type": "markdown",
   "metadata": {},
   "source": [
    "# Cross Validation\n",
    "\n",
    "This steps is to find the best benchmark algorithm"
   ]
  },
  {
   "cell_type": "code",
   "execution_count": 49,
   "metadata": {},
   "outputs": [],
   "source": [
    "# 3 Base Learner (Basic ML algorithm)\n",
    "logreg = LogisticRegression(random_state=0)\n",
    "knn = KNeighborsClassifier()\n",
    "tree = DecisionTreeClassifier(random_state=0, max_depth=5)\n",
    "\n",
    "\n",
    "# 4 ensemble model\n",
    "rf = RandomForestClassifier(random_state=0)\n",
    "adaboost = AdaBoostClassifier(random_state=0)\n",
    "gboost = GradientBoostingClassifier(random_state=0)\n",
    "xgboost  = XGBClassifier()"
   ]
  },
  {
   "attachments": {},
   "cell_type": "markdown",
   "metadata": {},
   "source": [
    "This code below is to see the best algorithm for our case, and to check that i will create a loop checking each and everyone of the algorithm"
   ]
  },
  {
   "cell_type": "code",
   "execution_count": 50,
   "metadata": {},
   "outputs": [],
   "source": [
    "list_model = [logreg,knn,tree,rf,adaboost,gboost,xgboost]           #containing all the algorithm to use in the looping\n",
    "list_all = []\n",
    "list_mean = []\n",
    "list_std = []\n",
    "\n",
    "#Create a loop to check each algorithm in list_model to find the mean and std so we can choose the best algorithm to use\n",
    "for model in list_model:\n",
    "\n",
    "    pipe_model = Pipeline([\n",
    "        ('transformer',transformer),\n",
    "        ('sampling',RandomOverSampler()),\n",
    "        ('model', model)\n",
    "    ])\n",
    "\n",
    "    model_cv = cross_val_score(\n",
    "        estimator=pipe_model,\n",
    "        X = X_train,\n",
    "        y = y_train,\n",
    "        cv = 5,\n",
    "        scoring='recall',\n",
    "        error_score='raise'\n",
    "\n",
    "    )\n",
    "\n",
    "    list_all.append(model_cv.round(4))\n",
    "    list_mean.append(model_cv.mean())\n",
    "    list_std.append(model_cv.std())"
   ]
  },
  {
   "attachments": {},
   "cell_type": "markdown",
   "metadata": {},
   "source": [
    "Code Below is for creating the dataframe of the cross validaiton result so we can see it more clearly and better"
   ]
  },
  {
   "cell_type": "code",
   "execution_count": 51,
   "metadata": {},
   "outputs": [],
   "source": [
    "df_score = pd.DataFrame({\n",
    "    'algo':list_model,\n",
    "    'mean' : list_mean,\n",
    "    'std' : list_std,\n",
    "    'all' : list_all\n",
    "})"
   ]
  },
  {
   "cell_type": "code",
   "execution_count": 52,
   "metadata": {},
   "outputs": [
    {
     "data": {
      "text/html": [
       "<div>\n",
       "<style scoped>\n",
       "    .dataframe tbody tr th:only-of-type {\n",
       "        vertical-align: middle;\n",
       "    }\n",
       "\n",
       "    .dataframe tbody tr th {\n",
       "        vertical-align: top;\n",
       "    }\n",
       "\n",
       "    .dataframe thead th {\n",
       "        text-align: right;\n",
       "    }\n",
       "</style>\n",
       "<table border=\"1\" class=\"dataframe\">\n",
       "  <thead>\n",
       "    <tr style=\"text-align: right;\">\n",
       "      <th></th>\n",
       "      <th>algo</th>\n",
       "      <th>mean</th>\n",
       "      <th>std</th>\n",
       "      <th>all</th>\n",
       "    </tr>\n",
       "  </thead>\n",
       "  <tbody>\n",
       "    <tr>\n",
       "      <th>0</th>\n",
       "      <td>LogisticRegression(random_state=0)</td>\n",
       "      <td>0.709445</td>\n",
       "      <td>0.012714</td>\n",
       "      <td>[0.6984, 0.7033, 0.716, 0.7313, 0.6981]</td>\n",
       "    </tr>\n",
       "    <tr>\n",
       "      <th>1</th>\n",
       "      <td>KNeighborsClassifier()</td>\n",
       "      <td>0.647790</td>\n",
       "      <td>0.036345</td>\n",
       "      <td>[0.7195, 0.6303, 0.6394, 0.6205, 0.6293]</td>\n",
       "    </tr>\n",
       "    <tr>\n",
       "      <th>2</th>\n",
       "      <td>DecisionTreeClassifier(max_depth=5, random_sta...</td>\n",
       "      <td>0.619248</td>\n",
       "      <td>0.004949</td>\n",
       "      <td>[0.6235, 0.6121, 0.6258, 0.6188, 0.616]</td>\n",
       "    </tr>\n",
       "    <tr>\n",
       "      <th>3</th>\n",
       "      <td>RandomForestClassifier(random_state=0)</td>\n",
       "      <td>0.802254</td>\n",
       "      <td>0.006112</td>\n",
       "      <td>[0.802, 0.8003, 0.8138, 0.7958, 0.7993]</td>\n",
       "    </tr>\n",
       "    <tr>\n",
       "      <th>4</th>\n",
       "      <td>AdaBoostClassifier(random_state=0)</td>\n",
       "      <td>0.694541</td>\n",
       "      <td>0.006550</td>\n",
       "      <td>[0.6909, 0.6895, 0.7074, 0.6919, 0.693]</td>\n",
       "    </tr>\n",
       "    <tr>\n",
       "      <th>5</th>\n",
       "      <td>GradientBoostingClassifier(random_state=0)</td>\n",
       "      <td>0.763505</td>\n",
       "      <td>0.009154</td>\n",
       "      <td>[0.765, 0.7536, 0.7803, 0.7597, 0.7589]</td>\n",
       "    </tr>\n",
       "    <tr>\n",
       "      <th>6</th>\n",
       "      <td>XGBClassifier(base_score=None, booster=None, c...</td>\n",
       "      <td>0.788208</td>\n",
       "      <td>0.012802</td>\n",
       "      <td>[0.7822, 0.7842, 0.812, 0.774, 0.7887]</td>\n",
       "    </tr>\n",
       "  </tbody>\n",
       "</table>\n",
       "</div>"
      ],
      "text/plain": [
       "                                                algo      mean       std  \\\n",
       "0                 LogisticRegression(random_state=0)  0.709445  0.012714   \n",
       "1                             KNeighborsClassifier()  0.647790  0.036345   \n",
       "2  DecisionTreeClassifier(max_depth=5, random_sta...  0.619248  0.004949   \n",
       "3             RandomForestClassifier(random_state=0)  0.802254  0.006112   \n",
       "4                 AdaBoostClassifier(random_state=0)  0.694541  0.006550   \n",
       "5         GradientBoostingClassifier(random_state=0)  0.763505  0.009154   \n",
       "6  XGBClassifier(base_score=None, booster=None, c...  0.788208  0.012802   \n",
       "\n",
       "                                        all  \n",
       "0   [0.6984, 0.7033, 0.716, 0.7313, 0.6981]  \n",
       "1  [0.7195, 0.6303, 0.6394, 0.6205, 0.6293]  \n",
       "2   [0.6235, 0.6121, 0.6258, 0.6188, 0.616]  \n",
       "3   [0.802, 0.8003, 0.8138, 0.7958, 0.7993]  \n",
       "4   [0.6909, 0.6895, 0.7074, 0.6919, 0.693]  \n",
       "5   [0.765, 0.7536, 0.7803, 0.7597, 0.7589]  \n",
       "6    [0.7822, 0.7842, 0.812, 0.774, 0.7887]  "
      ]
     },
     "execution_count": 52,
     "metadata": {},
     "output_type": "execute_result"
    }
   ],
   "source": [
    "df_score"
   ]
  },
  {
   "attachments": {},
   "cell_type": "markdown",
   "metadata": {},
   "source": [
    "Out of all algorithm above Random Forest algorithm have the best mean, and one of the lowest standard deviation, in this case i will use Random Forest algorithm and XGBoost because it is the 2nd best so we can have like second opinion"
   ]
  },
  {
   "attachments": {},
   "cell_type": "markdown",
   "metadata": {},
   "source": [
    "# Hyperparameter Tuning"
   ]
  },
  {
   "attachments": {},
   "cell_type": "markdown",
   "metadata": {},
   "source": [
    "## Random Forest Tuning"
   ]
  },
  {
   "cell_type": "code",
   "execution_count": 53,
   "metadata": {},
   "outputs": [],
   "source": [
    "#this is the pipeline we use\n",
    "pipe_model = Pipeline([\n",
    "    ('transformer',transformer),\n",
    "    ('sampling',RandomOverSampler()),\n",
    "    ('model', rf)\n",
    "])\n",
    "\n",
    "#this is for the param distribution, containing the parameter that we wants to tune to find the best one\n",
    "\n",
    "hyperparam_space = {\n",
    "    'model__n_estimators': range(50, 501, 50),\n",
    "    'model__max_features': range(1, len(X.columns), 1),\n",
    "    'model__max_depth': range(3,50,1),\n",
    "    'model__min_samples_split': range(2,100,2),\n",
    "    'model__min_samples_leaf': range(2,100,2),\n",
    "    'transformer__pipe_poly_scaling__poly__degree':[1,2,3],\n",
    "    'transformer__pipe_poly_scaling__scaling': [RobustScaler(),MinMaxScaler(),StandardScaler()],\n",
    "    'sampling':[RandomUnderSampler(),RandomOverSampler(),SMOTE(),NearMiss()]\n",
    "}\n",
    "\n",
    "#using random search to see the best parameter\n",
    "randomsearch_rf = RandomizedSearchCV(\n",
    "    estimator=pipe_model,\n",
    "    param_distributions= hyperparam_space,\n",
    "    cv=5,\n",
    "    scoring = 'recall',\n",
    "    n_jobs=-1,\n",
    "    n_iter=500,\n",
    "    random_state=0\n",
    ")"
   ]
  },
  {
   "attachments": {},
   "cell_type": "markdown",
   "metadata": {},
   "source": [
    "this code below is for fitting the Grid Search for Random Forest best params to X_train and y_train"
   ]
  },
  {
   "cell_type": "code",
   "execution_count": 54,
   "metadata": {},
   "outputs": [
    {
     "data": {
      "text/html": [
       "<style>#sk-container-id-1 {color: black;background-color: white;}#sk-container-id-1 pre{padding: 0;}#sk-container-id-1 div.sk-toggleable {background-color: white;}#sk-container-id-1 label.sk-toggleable__label {cursor: pointer;display: block;width: 100%;margin-bottom: 0;padding: 0.3em;box-sizing: border-box;text-align: center;}#sk-container-id-1 label.sk-toggleable__label-arrow:before {content: \"▸\";float: left;margin-right: 0.25em;color: #696969;}#sk-container-id-1 label.sk-toggleable__label-arrow:hover:before {color: black;}#sk-container-id-1 div.sk-estimator:hover label.sk-toggleable__label-arrow:before {color: black;}#sk-container-id-1 div.sk-toggleable__content {max-height: 0;max-width: 0;overflow: hidden;text-align: left;background-color: #f0f8ff;}#sk-container-id-1 div.sk-toggleable__content pre {margin: 0.2em;color: black;border-radius: 0.25em;background-color: #f0f8ff;}#sk-container-id-1 input.sk-toggleable__control:checked~div.sk-toggleable__content {max-height: 200px;max-width: 100%;overflow: auto;}#sk-container-id-1 input.sk-toggleable__control:checked~label.sk-toggleable__label-arrow:before {content: \"▾\";}#sk-container-id-1 div.sk-estimator input.sk-toggleable__control:checked~label.sk-toggleable__label {background-color: #d4ebff;}#sk-container-id-1 div.sk-label input.sk-toggleable__control:checked~label.sk-toggleable__label {background-color: #d4ebff;}#sk-container-id-1 input.sk-hidden--visually {border: 0;clip: rect(1px 1px 1px 1px);clip: rect(1px, 1px, 1px, 1px);height: 1px;margin: -1px;overflow: hidden;padding: 0;position: absolute;width: 1px;}#sk-container-id-1 div.sk-estimator {font-family: monospace;background-color: #f0f8ff;border: 1px dotted black;border-radius: 0.25em;box-sizing: border-box;margin-bottom: 0.5em;}#sk-container-id-1 div.sk-estimator:hover {background-color: #d4ebff;}#sk-container-id-1 div.sk-parallel-item::after {content: \"\";width: 100%;border-bottom: 1px solid gray;flex-grow: 1;}#sk-container-id-1 div.sk-label:hover label.sk-toggleable__label {background-color: #d4ebff;}#sk-container-id-1 div.sk-serial::before {content: \"\";position: absolute;border-left: 1px solid gray;box-sizing: border-box;top: 0;bottom: 0;left: 50%;z-index: 0;}#sk-container-id-1 div.sk-serial {display: flex;flex-direction: column;align-items: center;background-color: white;padding-right: 0.2em;padding-left: 0.2em;position: relative;}#sk-container-id-1 div.sk-item {position: relative;z-index: 1;}#sk-container-id-1 div.sk-parallel {display: flex;align-items: stretch;justify-content: center;background-color: white;position: relative;}#sk-container-id-1 div.sk-item::before, #sk-container-id-1 div.sk-parallel-item::before {content: \"\";position: absolute;border-left: 1px solid gray;box-sizing: border-box;top: 0;bottom: 0;left: 50%;z-index: -1;}#sk-container-id-1 div.sk-parallel-item {display: flex;flex-direction: column;z-index: 1;position: relative;background-color: white;}#sk-container-id-1 div.sk-parallel-item:first-child::after {align-self: flex-end;width: 50%;}#sk-container-id-1 div.sk-parallel-item:last-child::after {align-self: flex-start;width: 50%;}#sk-container-id-1 div.sk-parallel-item:only-child::after {width: 0;}#sk-container-id-1 div.sk-dashed-wrapped {border: 1px dashed gray;margin: 0 0.4em 0.5em 0.4em;box-sizing: border-box;padding-bottom: 0.4em;background-color: white;}#sk-container-id-1 div.sk-label label {font-family: monospace;font-weight: bold;display: inline-block;line-height: 1.2em;}#sk-container-id-1 div.sk-label-container {text-align: center;}#sk-container-id-1 div.sk-container {/* jupyter's `normalize.less` sets `[hidden] { display: none; }` but bootstrap.min.css set `[hidden] { display: none !important; }` so we also need the `!important` here to be able to override the default hidden behavior on the sphinx rendered scikit-learn.org. See: https://github.com/scikit-learn/scikit-learn/issues/21755 */display: inline-block !important;position: relative;}#sk-container-id-1 div.sk-text-repr-fallback {display: none;}</style><div id=\"sk-container-id-1\" class=\"sk-top-container\"><div class=\"sk-text-repr-fallback\"><pre>RandomizedSearchCV(cv=5,\n",
       "                   estimator=Pipeline(steps=[(&#x27;transformer&#x27;,\n",
       "                                              ColumnTransformer(remainder=&#x27;passthrough&#x27;,\n",
       "                                                                transformers=[(&#x27;pipe_const_binary_scale&#x27;,\n",
       "                                                                               Pipeline(steps=[(&#x27;const&#x27;,\n",
       "                                                                                                SimpleImputer(fill_value=&#x27;Others&#x27;,\n",
       "                                                                                                              strategy=&#x27;constant&#x27;)),\n",
       "                                                                                               (&#x27;binary&#x27;,\n",
       "                                                                                                BinaryEncoder())]),\n",
       "                                                                               [&#x27;country&#x27;]),\n",
       "                                                                              (&#x27;pipe_onehot&#x27;,\n",
       "                                                                               Pipeline(steps=[(&#x27;onehot&#x27;,\n",
       "                                                                                                OneHotEncoder(drop=&#x27;first&#x27;))]),\n",
       "                                                                               [&#x27;marke...\n",
       "                                        &#x27;model__min_samples_leaf&#x27;: range(2, 100, 2),\n",
       "                                        &#x27;model__min_samples_split&#x27;: range(2, 100, 2),\n",
       "                                        &#x27;model__n_estimators&#x27;: range(50, 501, 50),\n",
       "                                        &#x27;sampling&#x27;: [RandomUnderSampler(),\n",
       "                                                     RandomOverSampler(),\n",
       "                                                     SMOTE(), NearMiss()],\n",
       "                                        &#x27;transformer__pipe_poly_scaling__poly__degree&#x27;: [1,\n",
       "                                                                                         2,\n",
       "                                                                                         3],\n",
       "                                        &#x27;transformer__pipe_poly_scaling__scaling&#x27;: [RobustScaler(),\n",
       "                                                                                    MinMaxScaler(),\n",
       "                                                                                    StandardScaler()]},\n",
       "                   random_state=0, scoring=&#x27;recall&#x27;)</pre><b>In a Jupyter environment, please rerun this cell to show the HTML representation or trust the notebook. <br />On GitHub, the HTML representation is unable to render, please try loading this page with nbviewer.org.</b></div><div class=\"sk-container\" hidden><div class=\"sk-item sk-dashed-wrapped\"><div class=\"sk-label-container\"><div class=\"sk-label sk-toggleable\"><input class=\"sk-toggleable__control sk-hidden--visually\" id=\"sk-estimator-id-1\" type=\"checkbox\" ><label for=\"sk-estimator-id-1\" class=\"sk-toggleable__label sk-toggleable__label-arrow\">RandomizedSearchCV</label><div class=\"sk-toggleable__content\"><pre>RandomizedSearchCV(cv=5,\n",
       "                   estimator=Pipeline(steps=[(&#x27;transformer&#x27;,\n",
       "                                              ColumnTransformer(remainder=&#x27;passthrough&#x27;,\n",
       "                                                                transformers=[(&#x27;pipe_const_binary_scale&#x27;,\n",
       "                                                                               Pipeline(steps=[(&#x27;const&#x27;,\n",
       "                                                                                                SimpleImputer(fill_value=&#x27;Others&#x27;,\n",
       "                                                                                                              strategy=&#x27;constant&#x27;)),\n",
       "                                                                                               (&#x27;binary&#x27;,\n",
       "                                                                                                BinaryEncoder())]),\n",
       "                                                                               [&#x27;country&#x27;]),\n",
       "                                                                              (&#x27;pipe_onehot&#x27;,\n",
       "                                                                               Pipeline(steps=[(&#x27;onehot&#x27;,\n",
       "                                                                                                OneHotEncoder(drop=&#x27;first&#x27;))]),\n",
       "                                                                               [&#x27;marke...\n",
       "                                        &#x27;model__min_samples_leaf&#x27;: range(2, 100, 2),\n",
       "                                        &#x27;model__min_samples_split&#x27;: range(2, 100, 2),\n",
       "                                        &#x27;model__n_estimators&#x27;: range(50, 501, 50),\n",
       "                                        &#x27;sampling&#x27;: [RandomUnderSampler(),\n",
       "                                                     RandomOverSampler(),\n",
       "                                                     SMOTE(), NearMiss()],\n",
       "                                        &#x27;transformer__pipe_poly_scaling__poly__degree&#x27;: [1,\n",
       "                                                                                         2,\n",
       "                                                                                         3],\n",
       "                                        &#x27;transformer__pipe_poly_scaling__scaling&#x27;: [RobustScaler(),\n",
       "                                                                                    MinMaxScaler(),\n",
       "                                                                                    StandardScaler()]},\n",
       "                   random_state=0, scoring=&#x27;recall&#x27;)</pre></div></div></div><div class=\"sk-parallel\"><div class=\"sk-parallel-item\"><div class=\"sk-item\"><div class=\"sk-label-container\"><div class=\"sk-label sk-toggleable\"><input class=\"sk-toggleable__control sk-hidden--visually\" id=\"sk-estimator-id-2\" type=\"checkbox\" ><label for=\"sk-estimator-id-2\" class=\"sk-toggleable__label sk-toggleable__label-arrow\">estimator: Pipeline</label><div class=\"sk-toggleable__content\"><pre>Pipeline(steps=[(&#x27;transformer&#x27;,\n",
       "                 ColumnTransformer(remainder=&#x27;passthrough&#x27;,\n",
       "                                   transformers=[(&#x27;pipe_const_binary_scale&#x27;,\n",
       "                                                  Pipeline(steps=[(&#x27;const&#x27;,\n",
       "                                                                   SimpleImputer(fill_value=&#x27;Others&#x27;,\n",
       "                                                                                 strategy=&#x27;constant&#x27;)),\n",
       "                                                                  (&#x27;binary&#x27;,\n",
       "                                                                   BinaryEncoder())]),\n",
       "                                                  [&#x27;country&#x27;]),\n",
       "                                                 (&#x27;pipe_onehot&#x27;,\n",
       "                                                  Pipeline(steps=[(&#x27;onehot&#x27;,\n",
       "                                                                   OneHotEncoder(drop=&#x27;first&#x27;))]),\n",
       "                                                  [&#x27;market_segment&#x27;,\n",
       "                                                   &#x27;deposit_type&#x27;,\n",
       "                                                   &#x27;customer_type&#x27;,\n",
       "                                                   &#x27;reserved_room_type&#x27;]),\n",
       "                                                 (&#x27;pipe_poly_scaling&#x27;,\n",
       "                                                  Pipeline(steps=[(&#x27;poly&#x27;,\n",
       "                                                                   PolynomialFeatures(degree=1)),\n",
       "                                                                  (&#x27;scaling&#x27;,\n",
       "                                                                   RobustScaler())]),\n",
       "                                                  [&#x27;previous_cancellations&#x27;,\n",
       "                                                   &#x27;booking_changes&#x27;,\n",
       "                                                   &#x27;days_in_waiting_list&#x27;,\n",
       "                                                   &#x27;required_car_parking_spaces&#x27;,\n",
       "                                                   &#x27;total_of_special_requests&#x27;])])),\n",
       "                (&#x27;sampling&#x27;, RandomOverSampler()),\n",
       "                (&#x27;model&#x27;, RandomForestClassifier(random_state=0))])</pre></div></div></div><div class=\"sk-serial\"><div class=\"sk-item\"><div class=\"sk-serial\"><div class=\"sk-item sk-dashed-wrapped\"><div class=\"sk-label-container\"><div class=\"sk-label sk-toggleable\"><input class=\"sk-toggleable__control sk-hidden--visually\" id=\"sk-estimator-id-3\" type=\"checkbox\" ><label for=\"sk-estimator-id-3\" class=\"sk-toggleable__label sk-toggleable__label-arrow\">transformer: ColumnTransformer</label><div class=\"sk-toggleable__content\"><pre>ColumnTransformer(remainder=&#x27;passthrough&#x27;,\n",
       "                  transformers=[(&#x27;pipe_const_binary_scale&#x27;,\n",
       "                                 Pipeline(steps=[(&#x27;const&#x27;,\n",
       "                                                  SimpleImputer(fill_value=&#x27;Others&#x27;,\n",
       "                                                                strategy=&#x27;constant&#x27;)),\n",
       "                                                 (&#x27;binary&#x27;, BinaryEncoder())]),\n",
       "                                 [&#x27;country&#x27;]),\n",
       "                                (&#x27;pipe_onehot&#x27;,\n",
       "                                 Pipeline(steps=[(&#x27;onehot&#x27;,\n",
       "                                                  OneHotEncoder(drop=&#x27;first&#x27;))]),\n",
       "                                 [&#x27;market_segment&#x27;, &#x27;deposit_type&#x27;,\n",
       "                                  &#x27;customer_type&#x27;, &#x27;reserved_room_type&#x27;]),\n",
       "                                (&#x27;pipe_poly_scaling&#x27;,\n",
       "                                 Pipeline(steps=[(&#x27;poly&#x27;,\n",
       "                                                  PolynomialFeatures(degree=1)),\n",
       "                                                 (&#x27;scaling&#x27;, RobustScaler())]),\n",
       "                                 [&#x27;previous_cancellations&#x27;, &#x27;booking_changes&#x27;,\n",
       "                                  &#x27;days_in_waiting_list&#x27;,\n",
       "                                  &#x27;required_car_parking_spaces&#x27;,\n",
       "                                  &#x27;total_of_special_requests&#x27;])])</pre></div></div></div><div class=\"sk-parallel\"><div class=\"sk-parallel-item\"><div class=\"sk-item\"><div class=\"sk-label-container\"><div class=\"sk-label sk-toggleable\"><input class=\"sk-toggleable__control sk-hidden--visually\" id=\"sk-estimator-id-4\" type=\"checkbox\" ><label for=\"sk-estimator-id-4\" class=\"sk-toggleable__label sk-toggleable__label-arrow\">pipe_const_binary_scale</label><div class=\"sk-toggleable__content\"><pre>[&#x27;country&#x27;]</pre></div></div></div><div class=\"sk-serial\"><div class=\"sk-item\"><div class=\"sk-serial\"><div class=\"sk-item\"><div class=\"sk-estimator sk-toggleable\"><input class=\"sk-toggleable__control sk-hidden--visually\" id=\"sk-estimator-id-5\" type=\"checkbox\" ><label for=\"sk-estimator-id-5\" class=\"sk-toggleable__label sk-toggleable__label-arrow\">SimpleImputer</label><div class=\"sk-toggleable__content\"><pre>SimpleImputer(fill_value=&#x27;Others&#x27;, strategy=&#x27;constant&#x27;)</pre></div></div></div><div class=\"sk-item\"><div class=\"sk-estimator sk-toggleable\"><input class=\"sk-toggleable__control sk-hidden--visually\" id=\"sk-estimator-id-6\" type=\"checkbox\" ><label for=\"sk-estimator-id-6\" class=\"sk-toggleable__label sk-toggleable__label-arrow\">BinaryEncoder</label><div class=\"sk-toggleable__content\"><pre>BinaryEncoder()</pre></div></div></div></div></div></div></div></div><div class=\"sk-parallel-item\"><div class=\"sk-item\"><div class=\"sk-label-container\"><div class=\"sk-label sk-toggleable\"><input class=\"sk-toggleable__control sk-hidden--visually\" id=\"sk-estimator-id-7\" type=\"checkbox\" ><label for=\"sk-estimator-id-7\" class=\"sk-toggleable__label sk-toggleable__label-arrow\">pipe_onehot</label><div class=\"sk-toggleable__content\"><pre>[&#x27;market_segment&#x27;, &#x27;deposit_type&#x27;, &#x27;customer_type&#x27;, &#x27;reserved_room_type&#x27;]</pre></div></div></div><div class=\"sk-serial\"><div class=\"sk-item\"><div class=\"sk-serial\"><div class=\"sk-item\"><div class=\"sk-estimator sk-toggleable\"><input class=\"sk-toggleable__control sk-hidden--visually\" id=\"sk-estimator-id-8\" type=\"checkbox\" ><label for=\"sk-estimator-id-8\" class=\"sk-toggleable__label sk-toggleable__label-arrow\">OneHotEncoder</label><div class=\"sk-toggleable__content\"><pre>OneHotEncoder(drop=&#x27;first&#x27;)</pre></div></div></div></div></div></div></div></div><div class=\"sk-parallel-item\"><div class=\"sk-item\"><div class=\"sk-label-container\"><div class=\"sk-label sk-toggleable\"><input class=\"sk-toggleable__control sk-hidden--visually\" id=\"sk-estimator-id-9\" type=\"checkbox\" ><label for=\"sk-estimator-id-9\" class=\"sk-toggleable__label sk-toggleable__label-arrow\">pipe_poly_scaling</label><div class=\"sk-toggleable__content\"><pre>[&#x27;previous_cancellations&#x27;, &#x27;booking_changes&#x27;, &#x27;days_in_waiting_list&#x27;, &#x27;required_car_parking_spaces&#x27;, &#x27;total_of_special_requests&#x27;]</pre></div></div></div><div class=\"sk-serial\"><div class=\"sk-item\"><div class=\"sk-serial\"><div class=\"sk-item\"><div class=\"sk-estimator sk-toggleable\"><input class=\"sk-toggleable__control sk-hidden--visually\" id=\"sk-estimator-id-10\" type=\"checkbox\" ><label for=\"sk-estimator-id-10\" class=\"sk-toggleable__label sk-toggleable__label-arrow\">PolynomialFeatures</label><div class=\"sk-toggleable__content\"><pre>PolynomialFeatures(degree=1)</pre></div></div></div><div class=\"sk-item\"><div class=\"sk-estimator sk-toggleable\"><input class=\"sk-toggleable__control sk-hidden--visually\" id=\"sk-estimator-id-11\" type=\"checkbox\" ><label for=\"sk-estimator-id-11\" class=\"sk-toggleable__label sk-toggleable__label-arrow\">RobustScaler</label><div class=\"sk-toggleable__content\"><pre>RobustScaler()</pre></div></div></div></div></div></div></div></div><div class=\"sk-parallel-item\"><div class=\"sk-item\"><div class=\"sk-label-container\"><div class=\"sk-label sk-toggleable\"><input class=\"sk-toggleable__control sk-hidden--visually\" id=\"sk-estimator-id-12\" type=\"checkbox\" ><label for=\"sk-estimator-id-12\" class=\"sk-toggleable__label sk-toggleable__label-arrow\">remainder</label><div class=\"sk-toggleable__content\"><pre></pre></div></div></div><div class=\"sk-serial\"><div class=\"sk-item\"><div class=\"sk-estimator sk-toggleable\"><input class=\"sk-toggleable__control sk-hidden--visually\" id=\"sk-estimator-id-13\" type=\"checkbox\" ><label for=\"sk-estimator-id-13\" class=\"sk-toggleable__label sk-toggleable__label-arrow\">passthrough</label><div class=\"sk-toggleable__content\"><pre>passthrough</pre></div></div></div></div></div></div></div></div><div class=\"sk-item\"><div class=\"sk-estimator sk-toggleable\"><input class=\"sk-toggleable__control sk-hidden--visually\" id=\"sk-estimator-id-14\" type=\"checkbox\" ><label for=\"sk-estimator-id-14\" class=\"sk-toggleable__label sk-toggleable__label-arrow\">RandomOverSampler</label><div class=\"sk-toggleable__content\"><pre>RandomOverSampler()</pre></div></div></div><div class=\"sk-item\"><div class=\"sk-estimator sk-toggleable\"><input class=\"sk-toggleable__control sk-hidden--visually\" id=\"sk-estimator-id-15\" type=\"checkbox\" ><label for=\"sk-estimator-id-15\" class=\"sk-toggleable__label sk-toggleable__label-arrow\">RandomForestClassifier</label><div class=\"sk-toggleable__content\"><pre>RandomForestClassifier(random_state=0)</pre></div></div></div></div></div></div></div></div></div></div></div></div>"
      ],
      "text/plain": [
       "RandomizedSearchCV(cv=5,\n",
       "                   estimator=Pipeline(steps=[('transformer',\n",
       "                                              ColumnTransformer(remainder='passthrough',\n",
       "                                                                transformers=[('pipe_const_binary_scale',\n",
       "                                                                               Pipeline(steps=[('const',\n",
       "                                                                                                SimpleImputer(fill_value='Others',\n",
       "                                                                                                              strategy='constant')),\n",
       "                                                                                               ('binary',\n",
       "                                                                                                BinaryEncoder())]),\n",
       "                                                                               ['country']),\n",
       "                                                                              ('pipe_onehot',\n",
       "                                                                               Pipeline(steps=[('onehot',\n",
       "                                                                                                OneHotEncoder(drop='first'))]),\n",
       "                                                                               ['marke...\n",
       "                                        'model__min_samples_leaf': range(2, 100, 2),\n",
       "                                        'model__min_samples_split': range(2, 100, 2),\n",
       "                                        'model__n_estimators': range(50, 501, 50),\n",
       "                                        'sampling': [RandomUnderSampler(),\n",
       "                                                     RandomOverSampler(),\n",
       "                                                     SMOTE(), NearMiss()],\n",
       "                                        'transformer__pipe_poly_scaling__poly__degree': [1,\n",
       "                                                                                         2,\n",
       "                                                                                         3],\n",
       "                                        'transformer__pipe_poly_scaling__scaling': [RobustScaler(),\n",
       "                                                                                    MinMaxScaler(),\n",
       "                                                                                    StandardScaler()]},\n",
       "                   random_state=0, scoring='recall')"
      ]
     },
     "execution_count": 54,
     "metadata": {},
     "output_type": "execute_result"
    }
   ],
   "source": [
    "randomsearch_rf.fit(X_train,y_train)"
   ]
  },
  {
   "cell_type": "code",
   "execution_count": 55,
   "metadata": {},
   "outputs": [
    {
     "data": {
      "text/plain": [
       "{'transformer__pipe_poly_scaling__scaling': MinMaxScaler(),\n",
       " 'transformer__pipe_poly_scaling__poly__degree': 1,\n",
       " 'sampling': RandomOverSampler(),\n",
       " 'model__n_estimators': 200,\n",
       " 'model__min_samples_split': 70,\n",
       " 'model__min_samples_leaf': 2,\n",
       " 'model__max_features': 3,\n",
       " 'model__max_depth': 48}"
      ]
     },
     "execution_count": 55,
     "metadata": {},
     "output_type": "execute_result"
    }
   ],
   "source": [
    "randomsearch_rf.best_params_"
   ]
  },
  {
   "attachments": {},
   "cell_type": "markdown",
   "metadata": {},
   "source": [
    "This code Below is for to see the Recall score of random forest before tuning"
   ]
  },
  {
   "cell_type": "code",
   "execution_count": 56,
   "metadata": {},
   "outputs": [
    {
     "data": {
      "text/plain": [
       "0.7986281234688878"
      ]
     },
     "execution_count": 56,
     "metadata": {},
     "output_type": "execute_result"
    }
   ],
   "source": [
    "pipe_model_rf = Pipeline([\n",
    "    ('transformer',transformer),\n",
    "    ('sampling',RandomOverSampler()),\n",
    "    ('model', rf)\n",
    "])\n",
    "\n",
    "pipe_model_rf.fit(X_train,y_train)\n",
    "\n",
    "y_pred_before_rf = pipe_model.predict(X_test)\n",
    "recall_score(y_test,y_pred_before_rf)"
   ]
  },
  {
   "attachments": {},
   "cell_type": "markdown",
   "metadata": {},
   "source": [
    "This code Below is for to see the Recall score of random forest after tuning"
   ]
  },
  {
   "cell_type": "code",
   "execution_count": 57,
   "metadata": {},
   "outputs": [
    {
     "data": {
      "text/plain": [
       "0.7814796668299853"
      ]
     },
     "execution_count": 57,
     "metadata": {},
     "output_type": "execute_result"
    }
   ],
   "source": [
    "best_model_rf = randomsearch_rf.best_estimator_\n",
    "\n",
    "\n",
    "best_model_rf.fit(X_train,y_train)\n",
    "\n",
    "y_pred_after_rf = best_model_rf.predict(X_test)\n",
    "recall_score(y_test,y_pred_after_rf)"
   ]
  },
  {
   "attachments": {},
   "cell_type": "markdown",
   "metadata": {},
   "source": [
    "## XGBoost Tuning"
   ]
  },
  {
   "cell_type": "code",
   "execution_count": 58,
   "metadata": {},
   "outputs": [],
   "source": [
    "#this is the pipeline we use\n",
    "pipe_model = Pipeline([\n",
    "    ('transformer',transformer),\n",
    "    ('sampling',RandomOverSampler()),\n",
    "    ('model', xgboost)\n",
    "])\n",
    "\n",
    "\n",
    "#this is for the param distribution, containing the parameter that we wants to tune to find the best one\n",
    "hyperparam_space = {\n",
    "    'model__max_depth': range(3,50,1),\n",
    "    'model__min_child_weight': range(1,6,2),\n",
    "    'model__gamma': [i/10.0 for i in range(0,5)],\n",
    "    'model__subsample': [i/10.0 for i in range(6,10)],\n",
    "    'model__colsample_bytree': [i/10.0 for i in range(6,10)],\n",
    "    'transformer__pipe_poly_scaling__poly__degree':[1,2,3],\n",
    "    'transformer__pipe_poly_scaling__scaling': [RobustScaler(),MinMaxScaler(),StandardScaler()],\n",
    "    'sampling':[RandomUnderSampler(),RandomOverSampler(), SMOTE(), NearMiss()]\n",
    "}\n",
    "\n",
    "#using randomized search to find the best parameter to produce the best score \n",
    "randomsearch_xg = RandomizedSearchCV(\n",
    "    estimator=pipe_model,\n",
    "    param_distributions= hyperparam_space,\n",
    "    cv=5,                           \n",
    "    scoring = 'recall',                                 #Using The recall score because the false negative is more dangerous\n",
    "    n_jobs=-1,                                          #To use all the processor in our laptop/PC \n",
    "    n_iter=200,                                         #Number of randomized search\n",
    "    random_state=0\n",
    ")"
   ]
  },
  {
   "attachments": {},
   "cell_type": "markdown",
   "metadata": {},
   "source": [
    "this is to fit the XGBoost randomized search to the train set"
   ]
  },
  {
   "cell_type": "code",
   "execution_count": 59,
   "metadata": {},
   "outputs": [
    {
     "data": {
      "text/html": [
       "<style>#sk-container-id-2 {color: black;background-color: white;}#sk-container-id-2 pre{padding: 0;}#sk-container-id-2 div.sk-toggleable {background-color: white;}#sk-container-id-2 label.sk-toggleable__label {cursor: pointer;display: block;width: 100%;margin-bottom: 0;padding: 0.3em;box-sizing: border-box;text-align: center;}#sk-container-id-2 label.sk-toggleable__label-arrow:before {content: \"▸\";float: left;margin-right: 0.25em;color: #696969;}#sk-container-id-2 label.sk-toggleable__label-arrow:hover:before {color: black;}#sk-container-id-2 div.sk-estimator:hover label.sk-toggleable__label-arrow:before {color: black;}#sk-container-id-2 div.sk-toggleable__content {max-height: 0;max-width: 0;overflow: hidden;text-align: left;background-color: #f0f8ff;}#sk-container-id-2 div.sk-toggleable__content pre {margin: 0.2em;color: black;border-radius: 0.25em;background-color: #f0f8ff;}#sk-container-id-2 input.sk-toggleable__control:checked~div.sk-toggleable__content {max-height: 200px;max-width: 100%;overflow: auto;}#sk-container-id-2 input.sk-toggleable__control:checked~label.sk-toggleable__label-arrow:before {content: \"▾\";}#sk-container-id-2 div.sk-estimator input.sk-toggleable__control:checked~label.sk-toggleable__label {background-color: #d4ebff;}#sk-container-id-2 div.sk-label input.sk-toggleable__control:checked~label.sk-toggleable__label {background-color: #d4ebff;}#sk-container-id-2 input.sk-hidden--visually {border: 0;clip: rect(1px 1px 1px 1px);clip: rect(1px, 1px, 1px, 1px);height: 1px;margin: -1px;overflow: hidden;padding: 0;position: absolute;width: 1px;}#sk-container-id-2 div.sk-estimator {font-family: monospace;background-color: #f0f8ff;border: 1px dotted black;border-radius: 0.25em;box-sizing: border-box;margin-bottom: 0.5em;}#sk-container-id-2 div.sk-estimator:hover {background-color: #d4ebff;}#sk-container-id-2 div.sk-parallel-item::after {content: \"\";width: 100%;border-bottom: 1px solid gray;flex-grow: 1;}#sk-container-id-2 div.sk-label:hover label.sk-toggleable__label {background-color: #d4ebff;}#sk-container-id-2 div.sk-serial::before {content: \"\";position: absolute;border-left: 1px solid gray;box-sizing: border-box;top: 0;bottom: 0;left: 50%;z-index: 0;}#sk-container-id-2 div.sk-serial {display: flex;flex-direction: column;align-items: center;background-color: white;padding-right: 0.2em;padding-left: 0.2em;position: relative;}#sk-container-id-2 div.sk-item {position: relative;z-index: 1;}#sk-container-id-2 div.sk-parallel {display: flex;align-items: stretch;justify-content: center;background-color: white;position: relative;}#sk-container-id-2 div.sk-item::before, #sk-container-id-2 div.sk-parallel-item::before {content: \"\";position: absolute;border-left: 1px solid gray;box-sizing: border-box;top: 0;bottom: 0;left: 50%;z-index: -1;}#sk-container-id-2 div.sk-parallel-item {display: flex;flex-direction: column;z-index: 1;position: relative;background-color: white;}#sk-container-id-2 div.sk-parallel-item:first-child::after {align-self: flex-end;width: 50%;}#sk-container-id-2 div.sk-parallel-item:last-child::after {align-self: flex-start;width: 50%;}#sk-container-id-2 div.sk-parallel-item:only-child::after {width: 0;}#sk-container-id-2 div.sk-dashed-wrapped {border: 1px dashed gray;margin: 0 0.4em 0.5em 0.4em;box-sizing: border-box;padding-bottom: 0.4em;background-color: white;}#sk-container-id-2 div.sk-label label {font-family: monospace;font-weight: bold;display: inline-block;line-height: 1.2em;}#sk-container-id-2 div.sk-label-container {text-align: center;}#sk-container-id-2 div.sk-container {/* jupyter's `normalize.less` sets `[hidden] { display: none; }` but bootstrap.min.css set `[hidden] { display: none !important; }` so we also need the `!important` here to be able to override the default hidden behavior on the sphinx rendered scikit-learn.org. See: https://github.com/scikit-learn/scikit-learn/issues/21755 */display: inline-block !important;position: relative;}#sk-container-id-2 div.sk-text-repr-fallback {display: none;}</style><div id=\"sk-container-id-2\" class=\"sk-top-container\"><div class=\"sk-text-repr-fallback\"><pre>RandomizedSearchCV(cv=5,\n",
       "                   estimator=Pipeline(steps=[(&#x27;transformer&#x27;,\n",
       "                                              ColumnTransformer(remainder=&#x27;passthrough&#x27;,\n",
       "                                                                transformers=[(&#x27;pipe_const_binary_scale&#x27;,\n",
       "                                                                               Pipeline(steps=[(&#x27;const&#x27;,\n",
       "                                                                                                SimpleImputer(fill_value=&#x27;Others&#x27;,\n",
       "                                                                                                              strategy=&#x27;constant&#x27;)),\n",
       "                                                                                               (&#x27;binary&#x27;,\n",
       "                                                                                                BinaryEncoder())]),\n",
       "                                                                               [&#x27;country&#x27;]),\n",
       "                                                                              (&#x27;pipe_onehot&#x27;,\n",
       "                                                                               Pipeline(steps=[(&#x27;onehot&#x27;,\n",
       "                                                                                                OneHotEncoder(drop=&#x27;first&#x27;))]),\n",
       "                                                                               [&#x27;marke...\n",
       "                                        &#x27;model__max_depth&#x27;: range(3, 50),\n",
       "                                        &#x27;model__min_child_weight&#x27;: range(1, 6, 2),\n",
       "                                        &#x27;model__subsample&#x27;: [0.6, 0.7, 0.8,\n",
       "                                                             0.9],\n",
       "                                        &#x27;sampling&#x27;: [RandomUnderSampler(),\n",
       "                                                     RandomOverSampler(),\n",
       "                                                     SMOTE(), NearMiss()],\n",
       "                                        &#x27;transformer__pipe_poly_scaling__poly__degree&#x27;: [1,\n",
       "                                                                                         2,\n",
       "                                                                                         3],\n",
       "                                        &#x27;transformer__pipe_poly_scaling__scaling&#x27;: [RobustScaler(),\n",
       "                                                                                    MinMaxScaler(),\n",
       "                                                                                    StandardScaler()]},\n",
       "                   random_state=0, scoring=&#x27;recall&#x27;)</pre><b>In a Jupyter environment, please rerun this cell to show the HTML representation or trust the notebook. <br />On GitHub, the HTML representation is unable to render, please try loading this page with nbviewer.org.</b></div><div class=\"sk-container\" hidden><div class=\"sk-item sk-dashed-wrapped\"><div class=\"sk-label-container\"><div class=\"sk-label sk-toggleable\"><input class=\"sk-toggleable__control sk-hidden--visually\" id=\"sk-estimator-id-16\" type=\"checkbox\" ><label for=\"sk-estimator-id-16\" class=\"sk-toggleable__label sk-toggleable__label-arrow\">RandomizedSearchCV</label><div class=\"sk-toggleable__content\"><pre>RandomizedSearchCV(cv=5,\n",
       "                   estimator=Pipeline(steps=[(&#x27;transformer&#x27;,\n",
       "                                              ColumnTransformer(remainder=&#x27;passthrough&#x27;,\n",
       "                                                                transformers=[(&#x27;pipe_const_binary_scale&#x27;,\n",
       "                                                                               Pipeline(steps=[(&#x27;const&#x27;,\n",
       "                                                                                                SimpleImputer(fill_value=&#x27;Others&#x27;,\n",
       "                                                                                                              strategy=&#x27;constant&#x27;)),\n",
       "                                                                                               (&#x27;binary&#x27;,\n",
       "                                                                                                BinaryEncoder())]),\n",
       "                                                                               [&#x27;country&#x27;]),\n",
       "                                                                              (&#x27;pipe_onehot&#x27;,\n",
       "                                                                               Pipeline(steps=[(&#x27;onehot&#x27;,\n",
       "                                                                                                OneHotEncoder(drop=&#x27;first&#x27;))]),\n",
       "                                                                               [&#x27;marke...\n",
       "                                        &#x27;model__max_depth&#x27;: range(3, 50),\n",
       "                                        &#x27;model__min_child_weight&#x27;: range(1, 6, 2),\n",
       "                                        &#x27;model__subsample&#x27;: [0.6, 0.7, 0.8,\n",
       "                                                             0.9],\n",
       "                                        &#x27;sampling&#x27;: [RandomUnderSampler(),\n",
       "                                                     RandomOverSampler(),\n",
       "                                                     SMOTE(), NearMiss()],\n",
       "                                        &#x27;transformer__pipe_poly_scaling__poly__degree&#x27;: [1,\n",
       "                                                                                         2,\n",
       "                                                                                         3],\n",
       "                                        &#x27;transformer__pipe_poly_scaling__scaling&#x27;: [RobustScaler(),\n",
       "                                                                                    MinMaxScaler(),\n",
       "                                                                                    StandardScaler()]},\n",
       "                   random_state=0, scoring=&#x27;recall&#x27;)</pre></div></div></div><div class=\"sk-parallel\"><div class=\"sk-parallel-item\"><div class=\"sk-item\"><div class=\"sk-label-container\"><div class=\"sk-label sk-toggleable\"><input class=\"sk-toggleable__control sk-hidden--visually\" id=\"sk-estimator-id-17\" type=\"checkbox\" ><label for=\"sk-estimator-id-17\" class=\"sk-toggleable__label sk-toggleable__label-arrow\">estimator: Pipeline</label><div class=\"sk-toggleable__content\"><pre>Pipeline(steps=[(&#x27;transformer&#x27;,\n",
       "                 ColumnTransformer(remainder=&#x27;passthrough&#x27;,\n",
       "                                   transformers=[(&#x27;pipe_const_binary_scale&#x27;,\n",
       "                                                  Pipeline(steps=[(&#x27;const&#x27;,\n",
       "                                                                   SimpleImputer(fill_value=&#x27;Others&#x27;,\n",
       "                                                                                 strategy=&#x27;constant&#x27;)),\n",
       "                                                                  (&#x27;binary&#x27;,\n",
       "                                                                   BinaryEncoder())]),\n",
       "                                                  [&#x27;country&#x27;]),\n",
       "                                                 (&#x27;pipe_onehot&#x27;,\n",
       "                                                  Pipeline(steps=[(&#x27;onehot&#x27;,\n",
       "                                                                   OneHotEncoder(drop=&#x27;first&#x27;))]),\n",
       "                                                  [&#x27;market_segment&#x27;,\n",
       "                                                   &#x27;deposit_type&#x27;,\n",
       "                                                   &#x27;custome...\n",
       "                               feature_types=None, gamma=None, gpu_id=None,\n",
       "                               grow_policy=None, importance_type=None,\n",
       "                               interaction_constraints=None, learning_rate=None,\n",
       "                               max_bin=None, max_cat_threshold=None,\n",
       "                               max_cat_to_onehot=None, max_delta_step=None,\n",
       "                               max_depth=None, max_leaves=None,\n",
       "                               min_child_weight=None, missing=nan,\n",
       "                               monotone_constraints=None, n_estimators=100,\n",
       "                               n_jobs=None, num_parallel_tree=None,\n",
       "                               predictor=None, random_state=None, ...))])</pre></div></div></div><div class=\"sk-serial\"><div class=\"sk-item\"><div class=\"sk-serial\"><div class=\"sk-item sk-dashed-wrapped\"><div class=\"sk-label-container\"><div class=\"sk-label sk-toggleable\"><input class=\"sk-toggleable__control sk-hidden--visually\" id=\"sk-estimator-id-18\" type=\"checkbox\" ><label for=\"sk-estimator-id-18\" class=\"sk-toggleable__label sk-toggleable__label-arrow\">transformer: ColumnTransformer</label><div class=\"sk-toggleable__content\"><pre>ColumnTransformer(remainder=&#x27;passthrough&#x27;,\n",
       "                  transformers=[(&#x27;pipe_const_binary_scale&#x27;,\n",
       "                                 Pipeline(steps=[(&#x27;const&#x27;,\n",
       "                                                  SimpleImputer(fill_value=&#x27;Others&#x27;,\n",
       "                                                                strategy=&#x27;constant&#x27;)),\n",
       "                                                 (&#x27;binary&#x27;, BinaryEncoder())]),\n",
       "                                 [&#x27;country&#x27;]),\n",
       "                                (&#x27;pipe_onehot&#x27;,\n",
       "                                 Pipeline(steps=[(&#x27;onehot&#x27;,\n",
       "                                                  OneHotEncoder(drop=&#x27;first&#x27;))]),\n",
       "                                 [&#x27;market_segment&#x27;, &#x27;deposit_type&#x27;,\n",
       "                                  &#x27;customer_type&#x27;, &#x27;reserved_room_type&#x27;]),\n",
       "                                (&#x27;pipe_poly_scaling&#x27;,\n",
       "                                 Pipeline(steps=[(&#x27;poly&#x27;,\n",
       "                                                  PolynomialFeatures(degree=1)),\n",
       "                                                 (&#x27;scaling&#x27;, RobustScaler())]),\n",
       "                                 [&#x27;previous_cancellations&#x27;, &#x27;booking_changes&#x27;,\n",
       "                                  &#x27;days_in_waiting_list&#x27;,\n",
       "                                  &#x27;required_car_parking_spaces&#x27;,\n",
       "                                  &#x27;total_of_special_requests&#x27;])])</pre></div></div></div><div class=\"sk-parallel\"><div class=\"sk-parallel-item\"><div class=\"sk-item\"><div class=\"sk-label-container\"><div class=\"sk-label sk-toggleable\"><input class=\"sk-toggleable__control sk-hidden--visually\" id=\"sk-estimator-id-19\" type=\"checkbox\" ><label for=\"sk-estimator-id-19\" class=\"sk-toggleable__label sk-toggleable__label-arrow\">pipe_const_binary_scale</label><div class=\"sk-toggleable__content\"><pre>[&#x27;country&#x27;]</pre></div></div></div><div class=\"sk-serial\"><div class=\"sk-item\"><div class=\"sk-serial\"><div class=\"sk-item\"><div class=\"sk-estimator sk-toggleable\"><input class=\"sk-toggleable__control sk-hidden--visually\" id=\"sk-estimator-id-20\" type=\"checkbox\" ><label for=\"sk-estimator-id-20\" class=\"sk-toggleable__label sk-toggleable__label-arrow\">SimpleImputer</label><div class=\"sk-toggleable__content\"><pre>SimpleImputer(fill_value=&#x27;Others&#x27;, strategy=&#x27;constant&#x27;)</pre></div></div></div><div class=\"sk-item\"><div class=\"sk-estimator sk-toggleable\"><input class=\"sk-toggleable__control sk-hidden--visually\" id=\"sk-estimator-id-21\" type=\"checkbox\" ><label for=\"sk-estimator-id-21\" class=\"sk-toggleable__label sk-toggleable__label-arrow\">BinaryEncoder</label><div class=\"sk-toggleable__content\"><pre>BinaryEncoder()</pre></div></div></div></div></div></div></div></div><div class=\"sk-parallel-item\"><div class=\"sk-item\"><div class=\"sk-label-container\"><div class=\"sk-label sk-toggleable\"><input class=\"sk-toggleable__control sk-hidden--visually\" id=\"sk-estimator-id-22\" type=\"checkbox\" ><label for=\"sk-estimator-id-22\" class=\"sk-toggleable__label sk-toggleable__label-arrow\">pipe_onehot</label><div class=\"sk-toggleable__content\"><pre>[&#x27;market_segment&#x27;, &#x27;deposit_type&#x27;, &#x27;customer_type&#x27;, &#x27;reserved_room_type&#x27;]</pre></div></div></div><div class=\"sk-serial\"><div class=\"sk-item\"><div class=\"sk-serial\"><div class=\"sk-item\"><div class=\"sk-estimator sk-toggleable\"><input class=\"sk-toggleable__control sk-hidden--visually\" id=\"sk-estimator-id-23\" type=\"checkbox\" ><label for=\"sk-estimator-id-23\" class=\"sk-toggleable__label sk-toggleable__label-arrow\">OneHotEncoder</label><div class=\"sk-toggleable__content\"><pre>OneHotEncoder(drop=&#x27;first&#x27;)</pre></div></div></div></div></div></div></div></div><div class=\"sk-parallel-item\"><div class=\"sk-item\"><div class=\"sk-label-container\"><div class=\"sk-label sk-toggleable\"><input class=\"sk-toggleable__control sk-hidden--visually\" id=\"sk-estimator-id-24\" type=\"checkbox\" ><label for=\"sk-estimator-id-24\" class=\"sk-toggleable__label sk-toggleable__label-arrow\">pipe_poly_scaling</label><div class=\"sk-toggleable__content\"><pre>[&#x27;previous_cancellations&#x27;, &#x27;booking_changes&#x27;, &#x27;days_in_waiting_list&#x27;, &#x27;required_car_parking_spaces&#x27;, &#x27;total_of_special_requests&#x27;]</pre></div></div></div><div class=\"sk-serial\"><div class=\"sk-item\"><div class=\"sk-serial\"><div class=\"sk-item\"><div class=\"sk-estimator sk-toggleable\"><input class=\"sk-toggleable__control sk-hidden--visually\" id=\"sk-estimator-id-25\" type=\"checkbox\" ><label for=\"sk-estimator-id-25\" class=\"sk-toggleable__label sk-toggleable__label-arrow\">PolynomialFeatures</label><div class=\"sk-toggleable__content\"><pre>PolynomialFeatures(degree=1)</pre></div></div></div><div class=\"sk-item\"><div class=\"sk-estimator sk-toggleable\"><input class=\"sk-toggleable__control sk-hidden--visually\" id=\"sk-estimator-id-26\" type=\"checkbox\" ><label for=\"sk-estimator-id-26\" class=\"sk-toggleable__label sk-toggleable__label-arrow\">RobustScaler</label><div class=\"sk-toggleable__content\"><pre>RobustScaler()</pre></div></div></div></div></div></div></div></div><div class=\"sk-parallel-item\"><div class=\"sk-item\"><div class=\"sk-label-container\"><div class=\"sk-label sk-toggleable\"><input class=\"sk-toggleable__control sk-hidden--visually\" id=\"sk-estimator-id-27\" type=\"checkbox\" ><label for=\"sk-estimator-id-27\" class=\"sk-toggleable__label sk-toggleable__label-arrow\">remainder</label><div class=\"sk-toggleable__content\"><pre>[]</pre></div></div></div><div class=\"sk-serial\"><div class=\"sk-item\"><div class=\"sk-estimator sk-toggleable\"><input class=\"sk-toggleable__control sk-hidden--visually\" id=\"sk-estimator-id-28\" type=\"checkbox\" ><label for=\"sk-estimator-id-28\" class=\"sk-toggleable__label sk-toggleable__label-arrow\">passthrough</label><div class=\"sk-toggleable__content\"><pre>passthrough</pre></div></div></div></div></div></div></div></div><div class=\"sk-item\"><div class=\"sk-estimator sk-toggleable\"><input class=\"sk-toggleable__control sk-hidden--visually\" id=\"sk-estimator-id-29\" type=\"checkbox\" ><label for=\"sk-estimator-id-29\" class=\"sk-toggleable__label sk-toggleable__label-arrow\">RandomOverSampler</label><div class=\"sk-toggleable__content\"><pre>RandomOverSampler()</pre></div></div></div><div class=\"sk-item\"><div class=\"sk-estimator sk-toggleable\"><input class=\"sk-toggleable__control sk-hidden--visually\" id=\"sk-estimator-id-30\" type=\"checkbox\" ><label for=\"sk-estimator-id-30\" class=\"sk-toggleable__label sk-toggleable__label-arrow\">XGBClassifier</label><div class=\"sk-toggleable__content\"><pre>XGBClassifier(base_score=None, booster=None, callbacks=None,\n",
       "              colsample_bylevel=None, colsample_bynode=None,\n",
       "              colsample_bytree=None, early_stopping_rounds=None,\n",
       "              enable_categorical=False, eval_metric=None, feature_types=None,\n",
       "              gamma=None, gpu_id=None, grow_policy=None, importance_type=None,\n",
       "              interaction_constraints=None, learning_rate=None, max_bin=None,\n",
       "              max_cat_threshold=None, max_cat_to_onehot=None,\n",
       "              max_delta_step=None, max_depth=None, max_leaves=None,\n",
       "              min_child_weight=None, missing=nan, monotone_constraints=None,\n",
       "              n_estimators=100, n_jobs=None, num_parallel_tree=None,\n",
       "              predictor=None, random_state=None, ...)</pre></div></div></div></div></div></div></div></div></div></div></div></div>"
      ],
      "text/plain": [
       "RandomizedSearchCV(cv=5,\n",
       "                   estimator=Pipeline(steps=[('transformer',\n",
       "                                              ColumnTransformer(remainder='passthrough',\n",
       "                                                                transformers=[('pipe_const_binary_scale',\n",
       "                                                                               Pipeline(steps=[('const',\n",
       "                                                                                                SimpleImputer(fill_value='Others',\n",
       "                                                                                                              strategy='constant')),\n",
       "                                                                                               ('binary',\n",
       "                                                                                                BinaryEncoder())]),\n",
       "                                                                               ['country']),\n",
       "                                                                              ('pipe_onehot',\n",
       "                                                                               Pipeline(steps=[('onehot',\n",
       "                                                                                                OneHotEncoder(drop='first'))]),\n",
       "                                                                               ['marke...\n",
       "                                        'model__max_depth': range(3, 50),\n",
       "                                        'model__min_child_weight': range(1, 6, 2),\n",
       "                                        'model__subsample': [0.6, 0.7, 0.8,\n",
       "                                                             0.9],\n",
       "                                        'sampling': [RandomUnderSampler(),\n",
       "                                                     RandomOverSampler(),\n",
       "                                                     SMOTE(), NearMiss()],\n",
       "                                        'transformer__pipe_poly_scaling__poly__degree': [1,\n",
       "                                                                                         2,\n",
       "                                                                                         3],\n",
       "                                        'transformer__pipe_poly_scaling__scaling': [RobustScaler(),\n",
       "                                                                                    MinMaxScaler(),\n",
       "                                                                                    StandardScaler()]},\n",
       "                   random_state=0, scoring='recall')"
      ]
     },
     "execution_count": 59,
     "metadata": {},
     "output_type": "execute_result"
    }
   ],
   "source": [
    "randomsearch_xg.fit(X_train,y_train)"
   ]
  },
  {
   "attachments": {},
   "cell_type": "markdown",
   "metadata": {},
   "source": [
    "To Check the best parameters for XGBoost"
   ]
  },
  {
   "cell_type": "code",
   "execution_count": 63,
   "metadata": {},
   "outputs": [
    {
     "data": {
      "text/plain": [
       "{'transformer__pipe_poly_scaling__scaling': RobustScaler(),\n",
       " 'transformer__pipe_poly_scaling__poly__degree': 1,\n",
       " 'sampling': RandomUnderSampler(),\n",
       " 'model__subsample': 0.9,\n",
       " 'model__min_child_weight': 3,\n",
       " 'model__max_depth': 38,\n",
       " 'model__gamma': 0.2,\n",
       " 'model__colsample_bytree': 0.8}"
      ]
     },
     "execution_count": 63,
     "metadata": {},
     "output_type": "execute_result"
    }
   ],
   "source": [
    "randomsearch_xg.best_params_"
   ]
  },
  {
   "attachments": {},
   "cell_type": "markdown",
   "metadata": {},
   "source": [
    "This code Below is for to see the Recall score of XGboost before tuning"
   ]
  },
  {
   "cell_type": "code",
   "execution_count": 60,
   "metadata": {},
   "outputs": [
    {
     "data": {
      "text/plain": [
       "0.7839294463498285"
      ]
     },
     "execution_count": 60,
     "metadata": {},
     "output_type": "execute_result"
    }
   ],
   "source": [
    "pipe_model_xg = Pipeline([\n",
    "    ('transformer',transformer),\n",
    "    ('sampling',RandomOverSampler()),\n",
    "    ('model', xgboost)\n",
    "])\n",
    "\n",
    "pipe_model_xg.fit(X_train,y_train)\n",
    "\n",
    "y_pred_before_xg = pipe_model.predict(X_test)\n",
    "recall_score(y_test,y_pred_before_xg)"
   ]
  },
  {
   "attachments": {},
   "cell_type": "markdown",
   "metadata": {},
   "source": [
    "This code Below is for to see the Recall score of XGboost after tuning"
   ]
  },
  {
   "cell_type": "code",
   "execution_count": 61,
   "metadata": {},
   "outputs": [
    {
     "data": {
      "text/plain": [
       "0.8139800751265719"
      ]
     },
     "execution_count": 61,
     "metadata": {},
     "output_type": "execute_result"
    }
   ],
   "source": [
    "best_model_xg = randomsearch_xg.best_estimator_\n",
    "\n",
    "\n",
    "best_model_xg.fit(X_train,y_train)\n",
    "\n",
    "y_pred_after_xg = best_model_xg.predict(X_test)\n",
    "recall_score(y_test,y_pred_after_xg)"
   ]
  },
  {
   "attachments": {},
   "cell_type": "markdown",
   "metadata": {},
   "source": [
    "## 2nd Random Forest Tuning \n",
    "\n",
    "we will narrow the range for the 2nd tuning of random forest within the best params range of our first tuning  "
   ]
  },
  {
   "cell_type": "code",
   "execution_count": 64,
   "metadata": {},
   "outputs": [
    {
     "data": {
      "text/plain": [
       "{'transformer__pipe_poly_scaling__scaling': MinMaxScaler(),\n",
       " 'transformer__pipe_poly_scaling__poly__degree': 1,\n",
       " 'sampling': RandomOverSampler(),\n",
       " 'model__n_estimators': 200,\n",
       " 'model__min_samples_split': 70,\n",
       " 'model__min_samples_leaf': 2,\n",
       " 'model__max_features': 3,\n",
       " 'model__max_depth': 48}"
      ]
     },
     "execution_count": 64,
     "metadata": {},
     "output_type": "execute_result"
    }
   ],
   "source": [
    "# this is the best params of the 1st random forest tuning\n",
    "randomsearch_rf.best_params_"
   ]
  },
  {
   "cell_type": "code",
   "execution_count": 65,
   "metadata": {},
   "outputs": [],
   "source": [
    "#this is the pipeline we use\n",
    "pipe_model = Pipeline([\n",
    "    ('transformer',transformer),\n",
    "    ('sampling',RandomOverSampler()),\n",
    "    ('model', rf)\n",
    "])\n",
    "\n",
    "#this is for the param distribution, containing the parameter that we wants to tune to find the best one\n",
    "\n",
    "hyperparam_space = {\n",
    "    'model__n_estimators': range(100, 301, 20),\n",
    "    'model__max_features': range(1, len(X.columns), 1),\n",
    "    'model__max_depth': range(25,41,1),\n",
    "    'model__min_samples_split': range(80,100,1),\n",
    "    'model__min_samples_leaf': range(2,21,2),\n",
    "    'transformer__pipe_poly_scaling__poly__degree':[1],\n",
    "    'transformer__pipe_poly_scaling__scaling': [MinMaxScaler()],\n",
    "}\n",
    "\n",
    "#using random search to see the best parameter\n",
    "randomsearch_rf_2nd = RandomizedSearchCV(\n",
    "    estimator=pipe_model,\n",
    "    param_distributions= hyperparam_space,\n",
    "    cv=5,\n",
    "    scoring = 'recall',\n",
    "    n_jobs=-1,\n",
    "    n_iter=500,\n",
    "    random_state=0\n",
    ")"
   ]
  },
  {
   "cell_type": "code",
   "execution_count": 66,
   "metadata": {},
   "outputs": [
    {
     "data": {
      "text/html": [
       "<style>#sk-container-id-3 {color: black;background-color: white;}#sk-container-id-3 pre{padding: 0;}#sk-container-id-3 div.sk-toggleable {background-color: white;}#sk-container-id-3 label.sk-toggleable__label {cursor: pointer;display: block;width: 100%;margin-bottom: 0;padding: 0.3em;box-sizing: border-box;text-align: center;}#sk-container-id-3 label.sk-toggleable__label-arrow:before {content: \"▸\";float: left;margin-right: 0.25em;color: #696969;}#sk-container-id-3 label.sk-toggleable__label-arrow:hover:before {color: black;}#sk-container-id-3 div.sk-estimator:hover label.sk-toggleable__label-arrow:before {color: black;}#sk-container-id-3 div.sk-toggleable__content {max-height: 0;max-width: 0;overflow: hidden;text-align: left;background-color: #f0f8ff;}#sk-container-id-3 div.sk-toggleable__content pre {margin: 0.2em;color: black;border-radius: 0.25em;background-color: #f0f8ff;}#sk-container-id-3 input.sk-toggleable__control:checked~div.sk-toggleable__content {max-height: 200px;max-width: 100%;overflow: auto;}#sk-container-id-3 input.sk-toggleable__control:checked~label.sk-toggleable__label-arrow:before {content: \"▾\";}#sk-container-id-3 div.sk-estimator input.sk-toggleable__control:checked~label.sk-toggleable__label {background-color: #d4ebff;}#sk-container-id-3 div.sk-label input.sk-toggleable__control:checked~label.sk-toggleable__label {background-color: #d4ebff;}#sk-container-id-3 input.sk-hidden--visually {border: 0;clip: rect(1px 1px 1px 1px);clip: rect(1px, 1px, 1px, 1px);height: 1px;margin: -1px;overflow: hidden;padding: 0;position: absolute;width: 1px;}#sk-container-id-3 div.sk-estimator {font-family: monospace;background-color: #f0f8ff;border: 1px dotted black;border-radius: 0.25em;box-sizing: border-box;margin-bottom: 0.5em;}#sk-container-id-3 div.sk-estimator:hover {background-color: #d4ebff;}#sk-container-id-3 div.sk-parallel-item::after {content: \"\";width: 100%;border-bottom: 1px solid gray;flex-grow: 1;}#sk-container-id-3 div.sk-label:hover label.sk-toggleable__label {background-color: #d4ebff;}#sk-container-id-3 div.sk-serial::before {content: \"\";position: absolute;border-left: 1px solid gray;box-sizing: border-box;top: 0;bottom: 0;left: 50%;z-index: 0;}#sk-container-id-3 div.sk-serial {display: flex;flex-direction: column;align-items: center;background-color: white;padding-right: 0.2em;padding-left: 0.2em;position: relative;}#sk-container-id-3 div.sk-item {position: relative;z-index: 1;}#sk-container-id-3 div.sk-parallel {display: flex;align-items: stretch;justify-content: center;background-color: white;position: relative;}#sk-container-id-3 div.sk-item::before, #sk-container-id-3 div.sk-parallel-item::before {content: \"\";position: absolute;border-left: 1px solid gray;box-sizing: border-box;top: 0;bottom: 0;left: 50%;z-index: -1;}#sk-container-id-3 div.sk-parallel-item {display: flex;flex-direction: column;z-index: 1;position: relative;background-color: white;}#sk-container-id-3 div.sk-parallel-item:first-child::after {align-self: flex-end;width: 50%;}#sk-container-id-3 div.sk-parallel-item:last-child::after {align-self: flex-start;width: 50%;}#sk-container-id-3 div.sk-parallel-item:only-child::after {width: 0;}#sk-container-id-3 div.sk-dashed-wrapped {border: 1px dashed gray;margin: 0 0.4em 0.5em 0.4em;box-sizing: border-box;padding-bottom: 0.4em;background-color: white;}#sk-container-id-3 div.sk-label label {font-family: monospace;font-weight: bold;display: inline-block;line-height: 1.2em;}#sk-container-id-3 div.sk-label-container {text-align: center;}#sk-container-id-3 div.sk-container {/* jupyter's `normalize.less` sets `[hidden] { display: none; }` but bootstrap.min.css set `[hidden] { display: none !important; }` so we also need the `!important` here to be able to override the default hidden behavior on the sphinx rendered scikit-learn.org. See: https://github.com/scikit-learn/scikit-learn/issues/21755 */display: inline-block !important;position: relative;}#sk-container-id-3 div.sk-text-repr-fallback {display: none;}</style><div id=\"sk-container-id-3\" class=\"sk-top-container\"><div class=\"sk-text-repr-fallback\"><pre>RandomizedSearchCV(cv=5,\n",
       "                   estimator=Pipeline(steps=[(&#x27;transformer&#x27;,\n",
       "                                              ColumnTransformer(remainder=&#x27;passthrough&#x27;,\n",
       "                                                                transformers=[(&#x27;pipe_const_binary_scale&#x27;,\n",
       "                                                                               Pipeline(steps=[(&#x27;const&#x27;,\n",
       "                                                                                                SimpleImputer(fill_value=&#x27;Others&#x27;,\n",
       "                                                                                                              strategy=&#x27;constant&#x27;)),\n",
       "                                                                                               (&#x27;binary&#x27;,\n",
       "                                                                                                BinaryEncoder())]),\n",
       "                                                                               [&#x27;country&#x27;]),\n",
       "                                                                              (&#x27;pipe_onehot&#x27;,\n",
       "                                                                               Pipeline(steps=[(&#x27;onehot&#x27;,\n",
       "                                                                                                OneHotEncoder(drop=&#x27;first&#x27;))]),\n",
       "                                                                               [&#x27;marke...\n",
       "                   param_distributions={&#x27;model__max_depth&#x27;: range(25, 41),\n",
       "                                        &#x27;model__max_features&#x27;: range(1, 10),\n",
       "                                        &#x27;model__min_samples_leaf&#x27;: range(2, 21, 2),\n",
       "                                        &#x27;model__min_samples_split&#x27;: range(80, 100),\n",
       "                                        &#x27;model__n_estimators&#x27;: range(100, 301, 20),\n",
       "                                        &#x27;transformer__pipe_poly_scaling__poly__degree&#x27;: [1],\n",
       "                                        &#x27;transformer__pipe_poly_scaling__scaling&#x27;: [MinMaxScaler()]},\n",
       "                   random_state=0, scoring=&#x27;recall&#x27;)</pre><b>In a Jupyter environment, please rerun this cell to show the HTML representation or trust the notebook. <br />On GitHub, the HTML representation is unable to render, please try loading this page with nbviewer.org.</b></div><div class=\"sk-container\" hidden><div class=\"sk-item sk-dashed-wrapped\"><div class=\"sk-label-container\"><div class=\"sk-label sk-toggleable\"><input class=\"sk-toggleable__control sk-hidden--visually\" id=\"sk-estimator-id-31\" type=\"checkbox\" ><label for=\"sk-estimator-id-31\" class=\"sk-toggleable__label sk-toggleable__label-arrow\">RandomizedSearchCV</label><div class=\"sk-toggleable__content\"><pre>RandomizedSearchCV(cv=5,\n",
       "                   estimator=Pipeline(steps=[(&#x27;transformer&#x27;,\n",
       "                                              ColumnTransformer(remainder=&#x27;passthrough&#x27;,\n",
       "                                                                transformers=[(&#x27;pipe_const_binary_scale&#x27;,\n",
       "                                                                               Pipeline(steps=[(&#x27;const&#x27;,\n",
       "                                                                                                SimpleImputer(fill_value=&#x27;Others&#x27;,\n",
       "                                                                                                              strategy=&#x27;constant&#x27;)),\n",
       "                                                                                               (&#x27;binary&#x27;,\n",
       "                                                                                                BinaryEncoder())]),\n",
       "                                                                               [&#x27;country&#x27;]),\n",
       "                                                                              (&#x27;pipe_onehot&#x27;,\n",
       "                                                                               Pipeline(steps=[(&#x27;onehot&#x27;,\n",
       "                                                                                                OneHotEncoder(drop=&#x27;first&#x27;))]),\n",
       "                                                                               [&#x27;marke...\n",
       "                   param_distributions={&#x27;model__max_depth&#x27;: range(25, 41),\n",
       "                                        &#x27;model__max_features&#x27;: range(1, 10),\n",
       "                                        &#x27;model__min_samples_leaf&#x27;: range(2, 21, 2),\n",
       "                                        &#x27;model__min_samples_split&#x27;: range(80, 100),\n",
       "                                        &#x27;model__n_estimators&#x27;: range(100, 301, 20),\n",
       "                                        &#x27;transformer__pipe_poly_scaling__poly__degree&#x27;: [1],\n",
       "                                        &#x27;transformer__pipe_poly_scaling__scaling&#x27;: [MinMaxScaler()]},\n",
       "                   random_state=0, scoring=&#x27;recall&#x27;)</pre></div></div></div><div class=\"sk-parallel\"><div class=\"sk-parallel-item\"><div class=\"sk-item\"><div class=\"sk-label-container\"><div class=\"sk-label sk-toggleable\"><input class=\"sk-toggleable__control sk-hidden--visually\" id=\"sk-estimator-id-32\" type=\"checkbox\" ><label for=\"sk-estimator-id-32\" class=\"sk-toggleable__label sk-toggleable__label-arrow\">estimator: Pipeline</label><div class=\"sk-toggleable__content\"><pre>Pipeline(steps=[(&#x27;transformer&#x27;,\n",
       "                 ColumnTransformer(remainder=&#x27;passthrough&#x27;,\n",
       "                                   transformers=[(&#x27;pipe_const_binary_scale&#x27;,\n",
       "                                                  Pipeline(steps=[(&#x27;const&#x27;,\n",
       "                                                                   SimpleImputer(fill_value=&#x27;Others&#x27;,\n",
       "                                                                                 strategy=&#x27;constant&#x27;)),\n",
       "                                                                  (&#x27;binary&#x27;,\n",
       "                                                                   BinaryEncoder())]),\n",
       "                                                  [&#x27;country&#x27;]),\n",
       "                                                 (&#x27;pipe_onehot&#x27;,\n",
       "                                                  Pipeline(steps=[(&#x27;onehot&#x27;,\n",
       "                                                                   OneHotEncoder(drop=&#x27;first&#x27;))]),\n",
       "                                                  [&#x27;market_segment&#x27;,\n",
       "                                                   &#x27;deposit_type&#x27;,\n",
       "                                                   &#x27;customer_type&#x27;,\n",
       "                                                   &#x27;reserved_room_type&#x27;]),\n",
       "                                                 (&#x27;pipe_poly_scaling&#x27;,\n",
       "                                                  Pipeline(steps=[(&#x27;poly&#x27;,\n",
       "                                                                   PolynomialFeatures(degree=1)),\n",
       "                                                                  (&#x27;scaling&#x27;,\n",
       "                                                                   RobustScaler())]),\n",
       "                                                  [&#x27;previous_cancellations&#x27;,\n",
       "                                                   &#x27;booking_changes&#x27;,\n",
       "                                                   &#x27;days_in_waiting_list&#x27;,\n",
       "                                                   &#x27;required_car_parking_spaces&#x27;,\n",
       "                                                   &#x27;total_of_special_requests&#x27;])])),\n",
       "                (&#x27;sampling&#x27;, RandomOverSampler()),\n",
       "                (&#x27;model&#x27;, RandomForestClassifier(random_state=0))])</pre></div></div></div><div class=\"sk-serial\"><div class=\"sk-item\"><div class=\"sk-serial\"><div class=\"sk-item sk-dashed-wrapped\"><div class=\"sk-label-container\"><div class=\"sk-label sk-toggleable\"><input class=\"sk-toggleable__control sk-hidden--visually\" id=\"sk-estimator-id-33\" type=\"checkbox\" ><label for=\"sk-estimator-id-33\" class=\"sk-toggleable__label sk-toggleable__label-arrow\">transformer: ColumnTransformer</label><div class=\"sk-toggleable__content\"><pre>ColumnTransformer(remainder=&#x27;passthrough&#x27;,\n",
       "                  transformers=[(&#x27;pipe_const_binary_scale&#x27;,\n",
       "                                 Pipeline(steps=[(&#x27;const&#x27;,\n",
       "                                                  SimpleImputer(fill_value=&#x27;Others&#x27;,\n",
       "                                                                strategy=&#x27;constant&#x27;)),\n",
       "                                                 (&#x27;binary&#x27;, BinaryEncoder())]),\n",
       "                                 [&#x27;country&#x27;]),\n",
       "                                (&#x27;pipe_onehot&#x27;,\n",
       "                                 Pipeline(steps=[(&#x27;onehot&#x27;,\n",
       "                                                  OneHotEncoder(drop=&#x27;first&#x27;))]),\n",
       "                                 [&#x27;market_segment&#x27;, &#x27;deposit_type&#x27;,\n",
       "                                  &#x27;customer_type&#x27;, &#x27;reserved_room_type&#x27;]),\n",
       "                                (&#x27;pipe_poly_scaling&#x27;,\n",
       "                                 Pipeline(steps=[(&#x27;poly&#x27;,\n",
       "                                                  PolynomialFeatures(degree=1)),\n",
       "                                                 (&#x27;scaling&#x27;, RobustScaler())]),\n",
       "                                 [&#x27;previous_cancellations&#x27;, &#x27;booking_changes&#x27;,\n",
       "                                  &#x27;days_in_waiting_list&#x27;,\n",
       "                                  &#x27;required_car_parking_spaces&#x27;,\n",
       "                                  &#x27;total_of_special_requests&#x27;])])</pre></div></div></div><div class=\"sk-parallel\"><div class=\"sk-parallel-item\"><div class=\"sk-item\"><div class=\"sk-label-container\"><div class=\"sk-label sk-toggleable\"><input class=\"sk-toggleable__control sk-hidden--visually\" id=\"sk-estimator-id-34\" type=\"checkbox\" ><label for=\"sk-estimator-id-34\" class=\"sk-toggleable__label sk-toggleable__label-arrow\">pipe_const_binary_scale</label><div class=\"sk-toggleable__content\"><pre>[&#x27;country&#x27;]</pre></div></div></div><div class=\"sk-serial\"><div class=\"sk-item\"><div class=\"sk-serial\"><div class=\"sk-item\"><div class=\"sk-estimator sk-toggleable\"><input class=\"sk-toggleable__control sk-hidden--visually\" id=\"sk-estimator-id-35\" type=\"checkbox\" ><label for=\"sk-estimator-id-35\" class=\"sk-toggleable__label sk-toggleable__label-arrow\">SimpleImputer</label><div class=\"sk-toggleable__content\"><pre>SimpleImputer(fill_value=&#x27;Others&#x27;, strategy=&#x27;constant&#x27;)</pre></div></div></div><div class=\"sk-item\"><div class=\"sk-estimator sk-toggleable\"><input class=\"sk-toggleable__control sk-hidden--visually\" id=\"sk-estimator-id-36\" type=\"checkbox\" ><label for=\"sk-estimator-id-36\" class=\"sk-toggleable__label sk-toggleable__label-arrow\">BinaryEncoder</label><div class=\"sk-toggleable__content\"><pre>BinaryEncoder()</pre></div></div></div></div></div></div></div></div><div class=\"sk-parallel-item\"><div class=\"sk-item\"><div class=\"sk-label-container\"><div class=\"sk-label sk-toggleable\"><input class=\"sk-toggleable__control sk-hidden--visually\" id=\"sk-estimator-id-37\" type=\"checkbox\" ><label for=\"sk-estimator-id-37\" class=\"sk-toggleable__label sk-toggleable__label-arrow\">pipe_onehot</label><div class=\"sk-toggleable__content\"><pre>[&#x27;market_segment&#x27;, &#x27;deposit_type&#x27;, &#x27;customer_type&#x27;, &#x27;reserved_room_type&#x27;]</pre></div></div></div><div class=\"sk-serial\"><div class=\"sk-item\"><div class=\"sk-serial\"><div class=\"sk-item\"><div class=\"sk-estimator sk-toggleable\"><input class=\"sk-toggleable__control sk-hidden--visually\" id=\"sk-estimator-id-38\" type=\"checkbox\" ><label for=\"sk-estimator-id-38\" class=\"sk-toggleable__label sk-toggleable__label-arrow\">OneHotEncoder</label><div class=\"sk-toggleable__content\"><pre>OneHotEncoder(drop=&#x27;first&#x27;)</pre></div></div></div></div></div></div></div></div><div class=\"sk-parallel-item\"><div class=\"sk-item\"><div class=\"sk-label-container\"><div class=\"sk-label sk-toggleable\"><input class=\"sk-toggleable__control sk-hidden--visually\" id=\"sk-estimator-id-39\" type=\"checkbox\" ><label for=\"sk-estimator-id-39\" class=\"sk-toggleable__label sk-toggleable__label-arrow\">pipe_poly_scaling</label><div class=\"sk-toggleable__content\"><pre>[&#x27;previous_cancellations&#x27;, &#x27;booking_changes&#x27;, &#x27;days_in_waiting_list&#x27;, &#x27;required_car_parking_spaces&#x27;, &#x27;total_of_special_requests&#x27;]</pre></div></div></div><div class=\"sk-serial\"><div class=\"sk-item\"><div class=\"sk-serial\"><div class=\"sk-item\"><div class=\"sk-estimator sk-toggleable\"><input class=\"sk-toggleable__control sk-hidden--visually\" id=\"sk-estimator-id-40\" type=\"checkbox\" ><label for=\"sk-estimator-id-40\" class=\"sk-toggleable__label sk-toggleable__label-arrow\">PolynomialFeatures</label><div class=\"sk-toggleable__content\"><pre>PolynomialFeatures(degree=1)</pre></div></div></div><div class=\"sk-item\"><div class=\"sk-estimator sk-toggleable\"><input class=\"sk-toggleable__control sk-hidden--visually\" id=\"sk-estimator-id-41\" type=\"checkbox\" ><label for=\"sk-estimator-id-41\" class=\"sk-toggleable__label sk-toggleable__label-arrow\">RobustScaler</label><div class=\"sk-toggleable__content\"><pre>RobustScaler()</pre></div></div></div></div></div></div></div></div><div class=\"sk-parallel-item\"><div class=\"sk-item\"><div class=\"sk-label-container\"><div class=\"sk-label sk-toggleable\"><input class=\"sk-toggleable__control sk-hidden--visually\" id=\"sk-estimator-id-42\" type=\"checkbox\" ><label for=\"sk-estimator-id-42\" class=\"sk-toggleable__label sk-toggleable__label-arrow\">remainder</label><div class=\"sk-toggleable__content\"><pre>[]</pre></div></div></div><div class=\"sk-serial\"><div class=\"sk-item\"><div class=\"sk-estimator sk-toggleable\"><input class=\"sk-toggleable__control sk-hidden--visually\" id=\"sk-estimator-id-43\" type=\"checkbox\" ><label for=\"sk-estimator-id-43\" class=\"sk-toggleable__label sk-toggleable__label-arrow\">passthrough</label><div class=\"sk-toggleable__content\"><pre>passthrough</pre></div></div></div></div></div></div></div></div><div class=\"sk-item\"><div class=\"sk-estimator sk-toggleable\"><input class=\"sk-toggleable__control sk-hidden--visually\" id=\"sk-estimator-id-44\" type=\"checkbox\" ><label for=\"sk-estimator-id-44\" class=\"sk-toggleable__label sk-toggleable__label-arrow\">RandomOverSampler</label><div class=\"sk-toggleable__content\"><pre>RandomOverSampler()</pre></div></div></div><div class=\"sk-item\"><div class=\"sk-estimator sk-toggleable\"><input class=\"sk-toggleable__control sk-hidden--visually\" id=\"sk-estimator-id-45\" type=\"checkbox\" ><label for=\"sk-estimator-id-45\" class=\"sk-toggleable__label sk-toggleable__label-arrow\">RandomForestClassifier</label><div class=\"sk-toggleable__content\"><pre>RandomForestClassifier(random_state=0)</pre></div></div></div></div></div></div></div></div></div></div></div></div>"
      ],
      "text/plain": [
       "RandomizedSearchCV(cv=5,\n",
       "                   estimator=Pipeline(steps=[('transformer',\n",
       "                                              ColumnTransformer(remainder='passthrough',\n",
       "                                                                transformers=[('pipe_const_binary_scale',\n",
       "                                                                               Pipeline(steps=[('const',\n",
       "                                                                                                SimpleImputer(fill_value='Others',\n",
       "                                                                                                              strategy='constant')),\n",
       "                                                                                               ('binary',\n",
       "                                                                                                BinaryEncoder())]),\n",
       "                                                                               ['country']),\n",
       "                                                                              ('pipe_onehot',\n",
       "                                                                               Pipeline(steps=[('onehot',\n",
       "                                                                                                OneHotEncoder(drop='first'))]),\n",
       "                                                                               ['marke...\n",
       "                   param_distributions={'model__max_depth': range(25, 41),\n",
       "                                        'model__max_features': range(1, 10),\n",
       "                                        'model__min_samples_leaf': range(2, 21, 2),\n",
       "                                        'model__min_samples_split': range(80, 100),\n",
       "                                        'model__n_estimators': range(100, 301, 20),\n",
       "                                        'transformer__pipe_poly_scaling__poly__degree': [1],\n",
       "                                        'transformer__pipe_poly_scaling__scaling': [MinMaxScaler()]},\n",
       "                   random_state=0, scoring='recall')"
      ]
     },
     "execution_count": 66,
     "metadata": {},
     "output_type": "execute_result"
    }
   ],
   "source": [
    "# fitting the 2nd random forest random search\n",
    "randomsearch_rf_2nd.fit(X_train,y_train)"
   ]
  },
  {
   "attachments": {},
   "cell_type": "markdown",
   "metadata": {},
   "source": [
    "This code below is the random forest 2nd tuning Recall Score"
   ]
  },
  {
   "cell_type": "code",
   "execution_count": 67,
   "metadata": {},
   "outputs": [
    {
     "data": {
      "text/plain": [
       "0.7883390494855463"
      ]
     },
     "execution_count": 67,
     "metadata": {},
     "output_type": "execute_result"
    }
   ],
   "source": [
    "best_model_rf_2nd = randomsearch_rf_2nd.best_estimator_\n",
    "\n",
    "\n",
    "best_model_rf_2nd.fit(X_train,y_train)\n",
    "\n",
    "y_pred_after_rf_2nd = best_model_rf_2nd.predict(X_test)\n",
    "recall_score(y_test,y_pred_after_rf_2nd)"
   ]
  },
  {
   "attachments": {},
   "cell_type": "markdown",
   "metadata": {},
   "source": [
    "## Confusion Matrix"
   ]
  },
  {
   "cell_type": "code",
   "execution_count": 68,
   "metadata": {},
   "outputs": [],
   "source": [
    "from sklearn.metrics import confusion_matrix"
   ]
  },
  {
   "attachments": {},
   "cell_type": "markdown",
   "metadata": {},
   "source": [
    "This is the confusion matrix before and after the hyperparameter tuning"
   ]
  },
  {
   "cell_type": "code",
   "execution_count": 88,
   "metadata": {},
   "outputs": [
    {
     "data": {
      "text/plain": [
       "Text(0.5, 1.0, 'Cofusion Matrix After Tuning')"
      ]
     },
     "execution_count": 88,
     "metadata": {},
     "output_type": "execute_result"
    },
    {
     "data": {
      "image/png": "[encoded data removed]",
      "text/plain": [
       "<Figure size 2000x800 with 4 Axes>"
      ]
     },
     "metadata": {},
     "output_type": "display_data"
    }
   ],
   "source": [
    "plt.figure(figsize=(20,8))\n",
    "plt.subplot(1,2,1)\n",
    "sns.heatmap(confusion_matrix(y_test,y_pred_before_xg),annot=True,fmt='.0f')\n",
    "plt.title('Cofusion Matrix Before Tuning')\n",
    "\n",
    "plt.subplot(1,2,2)\n",
    "sns.heatmap(confusion_matrix(y_test,y_pred_after_xg),annot=True,fmt='.0f')\n",
    "plt.title('Cofusion Matrix After Tuning')"
   ]
  },
  {
   "cell_type": "code",
   "execution_count": 72,
   "metadata": {},
   "outputs": [
    {
     "data": {
      "text/plain": [
       "{'transformer__pipe_poly_scaling__scaling': RobustScaler(),\n",
       " 'transformer__pipe_poly_scaling__poly__degree': 1,\n",
       " 'sampling': RandomUnderSampler(),\n",
       " 'model__subsample': 0.9,\n",
       " 'model__min_child_weight': 3,\n",
       " 'model__max_depth': 38,\n",
       " 'model__gamma': 0.2,\n",
       " 'model__colsample_bytree': 0.8}"
      ]
     },
     "execution_count": 72,
     "metadata": {},
     "output_type": "execute_result"
    }
   ],
   "source": [
    "randomsearch_xg.best_params_"
   ]
  },
  {
   "attachments": {},
   "cell_type": "markdown",
   "metadata": {},
   "source": [
    "Summary:\n",
    "- The best Algorithm to use is XGBoost\n",
    "    - Random Forest before hyperparameter tuning Recall score: 0.7986281234688878\n",
    "    - Random Forest After Hyperparameter tuning Recall score:  0.7814796668299853\n",
    "    - Random Forest After Second Hyperparameter tuning Recall score:  0.7883390494855463\n",
    "    - XGBoost before hyperparameter tuning Recall score: 0.7839294463498285\n",
    "    - XGBoost after hyperparameter tuning Recall score: 0.8139800751265719\n",
    "\n",
    "Because the XGBoost Recall score after hyperparameter tuning is the best, so we will use the parameter of XGBoost after tuning with parameter:\n",
    "\n",
    "- Scaling: RobustScaler()\n",
    "- Polynomial__degree: 1\n",
    "- Resampler: RandomUnderSampler()\n",
    "- XGBoost__subsample: 0.9\n",
    "- XGBoost__min_child_weight: 3\n",
    "- XGBoost__max_depth: 38\n",
    "- XGBoost__gamma: 0.2\n",
    "- XGBoost__colsample_bytree: 0.8"
   ]
  },
  {
   "attachments": {},
   "cell_type": "markdown",
   "metadata": {},
   "source": [
    "XGBoost Step-By-Step Process:\n",
    "\n",
    "\n",
    "- Initialize the first decision tree: XGBoost starts by fitting an initial decision tree to the data. This tree makes predictions based on the features of the data.\n",
    "\n",
    "- Fit additional decision trees to residual errors: After the first tree is fit, XGBoost fits additional decision trees to the residual errors from the first tree. The residual errors are the difference between the actual values and the predicted values from the first tree.\n",
    "\n",
    "- Combine the outputs from all the trees: The outputs from all the decision trees are combined to make the final prediction. Each tree takes into account the previous trees and their predictions, building upon them to improve the accuracy of the overall model.\n",
    "\n",
    "- Repeat the process: The process of fitting decision trees to residual errors is repeated many times, each time using the residual errors from the previous set of trees. This allows the model to continually improve and make more accurate predictions.\n",
    "\n",
    "- Make predictions: Finally, the XGBoost model can be used to make predictions on new data. The model uses the decision trees and their outputs to make predictions based on the features of the new data."
   ]
  },
  {
   "attachments": {},
   "cell_type": "markdown",
   "metadata": {},
   "source": [
    "## Comparison Scenario before and after Machine Learning"
   ]
  },
  {
   "attachments": {},
   "cell_type": "markdown",
   "metadata": {},
   "source": [
    "This is the false negative rate before using the machine learning: the proportion of individuals whom we predict will not cancel their plans, but actually do."
   ]
  },
  {
   "cell_type": "code",
   "execution_count": 73,
   "metadata": {},
   "outputs": [
    {
     "data": {
      "text/plain": [
       "0.36781526336024606"
      ]
     },
     "execution_count": 73,
     "metadata": {},
     "output_type": "execute_result"
    }
   ],
   "source": [
    "y.value_counts()[1]/y.value_counts().sum()"
   ]
  },
  {
   "attachments": {},
   "cell_type": "markdown",
   "metadata": {},
   "source": [
    "This is the false negative rate after using the machine learning: the proportion of individuals whom we predict will not cancel their plans, but actually do."
   ]
  },
  {
   "cell_type": "code",
   "execution_count": 74,
   "metadata": {},
   "outputs": [],
   "source": [
    "true_negative = confusion_matrix(y_test,y_pred_after_xg)[0][0]\n",
    "false_positive = confusion_matrix(y_test,y_pred_after_xg)[0][1]\n",
    "false_negative = confusion_matrix(y_test,y_pred_after_xg)[1][0]\n",
    "true_positive = confusion_matrix(y_test,y_pred_after_xg)[1][1]"
   ]
  },
  {
   "attachments": {},
   "cell_type": "markdown",
   "metadata": {},
   "source": [
    "this code is to see the percentage of our missing profit before using machine learning"
   ]
  },
  {
   "cell_type": "code",
   "execution_count": 81,
   "metadata": {},
   "outputs": [
    {
     "data": {
      "text/plain": [
       "0.3678140205442422"
      ]
     },
     "execution_count": 81,
     "metadata": {},
     "output_type": "execute_result"
    }
   ],
   "source": [
    "(true_positive+false_negative) / (true_positive+false_negative+true_negative+false_positive)"
   ]
  },
  {
   "attachments": {},
   "cell_type": "markdown",
   "metadata": {},
   "source": [
    "this code is to see the percentage of our missing profit after using machine Learning"
   ]
  },
  {
   "cell_type": "code",
   "execution_count": 79,
   "metadata": {},
   "outputs": [
    {
     "data": {
      "text/plain": [
       "0.06842073646903346"
      ]
     },
     "execution_count": 79,
     "metadata": {},
     "output_type": "execute_result"
    }
   ],
   "source": [
    "false_negative / (true_positive+false_negative+true_negative+false_positive)"
   ]
  },
  {
   "attachments": {},
   "cell_type": "markdown",
   "metadata": {},
   "source": [
    "By utilizing an average hotel room cost of $140, we can calculate the financial loss experienced prior to the implementation of our machine learning model."
   ]
  },
  {
   "cell_type": "code",
   "execution_count": 83,
   "metadata": {},
   "outputs": [
    {
     "data": {
      "text/plain": [
       "857220"
      ]
     },
     "execution_count": 83,
     "metadata": {},
     "output_type": "execute_result"
    }
   ],
   "source": [
    "140*(1323+4800)"
   ]
  },
  {
   "attachments": {},
   "cell_type": "markdown",
   "metadata": {},
   "source": [
    "By utilizing an average hotel room cost of $140, we can calculate the financial loss experienced after to the implementation of our machine learning model."
   ]
  },
  {
   "cell_type": "code",
   "execution_count": 84,
   "metadata": {},
   "outputs": [
    {
     "data": {
      "text/plain": [
       "159460"
      ]
     },
     "execution_count": 84,
     "metadata": {},
     "output_type": "execute_result"
    }
   ],
   "source": [
    "140*1139"
   ]
  },
  {
   "attachments": {},
   "cell_type": "markdown",
   "metadata": {},
   "source": [
    "# Scenario How The Machine Learning Help Our Business"
   ]
  },
  {
   "attachments": {},
   "cell_type": "markdown",
   "metadata": {},
   "source": [
    "Prior to utilizing the machine learning model, our company experienced a shortfall in profits, amounting to 36.7% of the total potential earnings, equating to $857,220 in USD. However, with the implementation of the machine learning model, we were able to significantly reduce this missing profit to just 6.8% of the total potential earnings, resulting in a decrease to $159,460 in USD for our loss."
   ]
  },
  {
   "attachments": {},
   "cell_type": "markdown",
   "metadata": {},
   "source": [
    "## Model Limitation\n",
    "\n",
    "- Our data only have 10 features:\n",
    "    - because of the limitation of our limited features so our data can be under-trained so the Machine Learning is not optimized\n",
    "\n",
    "- Range Data:\n",
    "    - This model can only predict accurately:\n",
    "        - Previous_cancellations : 0 - 26\n",
    "        - Booking_Changes : 0 - 21\n",
    "        - Days In Waiting List : 0-125\n",
    "        - Required Car Parking Spaces : 0 - 8\n",
    "        - Total Of Special Requests : 0 - 5\n",
    "\n",
    "- Outliers:\n",
    "    - There's still outliers in our data"
   ]
  },
  {
   "attachments": {},
   "cell_type": "markdown",
   "metadata": {},
   "source": [
    "# Model Performance Recommendation:\n",
    "Things we can do to increase our model performance:\n",
    "\n",
    "- Monitor performance regularly: Regular monitoring of the model's performance can help identify areas for improvement and make adjustments accordingly.\n",
    "\n",
    "- Consider adding more data: The model's performance can be improved by incorporating more relevant data such as customer demographics, past booking history, etc.\n",
    "\n",
    "- Test and validate the model: Regular testing and validation of the model can help ensure that it is working accurately and effectively.\n",
    "\n",
    "- Collaborate with experts: Collaborating with machine learning experts and utilizing their expertise can help in further optimizing the model's performance."
   ]
  },
  {
   "attachments": {},
   "cell_type": "markdown",
   "metadata": {},
   "source": [
    "# Business Recommendation:\n",
    "- Our machine learning model boasts a realistic and impressive score of 81.3%, which falls within the ideal range of 75-90% for business purposes. This allows us to accurately predict the likelihood of customer cancellations well in advance of their booking date. By utilizing this model in our daily operations, we can effectively re-sell or re-list rooms if a cancellation does occur, thereby maximizing potential revenue and minimizing loss. Ultimately, our machine learning model represents a valuable asset to our business and a sound investment.\n",
    "\n",
    "- There are several steps that a hotel can take to increase customer loyalty and reduce cancellations:\n",
    "\n",
    "    - Provide excellent customer service: Providing outstanding customer service can help build strong relationships with customers and increase their likelihood of returning.\n",
    "\n",
    "    - Offer incentives and rewards: Offering incentives and rewards such as loyalty programs, special discounts, and upgrades can encourage customers to choose your hotel over others.\n",
    "\n",
    "    - Enhance the guest experience: Improving the guest experience by offering comfortable rooms, modern amenities, and convenient services can increase customer satisfaction and loyalty.\n",
    "\n",
    "    - Personalize the experience: Personalizing the guest experience by remembering their preferences, offering tailored recommendations, and providing a warm and welcoming atmosphere can help build strong relationships with customers.\n",
    "\n",
    "    - Utilize technology: Utilizing technology such as mobile check-in, in-room automation, and online booking can improve the guest experience and increase customer satisfaction.\n",
    "\n",
    "    - Solve problems promptly: Responding promptly to customer complaints and proactively addressing any issues can help maintain customer trust and satisfaction.\n",
    "\n",
    "    - Continuously gather and analyze customer feedback: Gathering and analyzing customer feedback regularly can help identify areas for improvement and provide valuable insights into what customers value most.\n",
    "\n",
    "By taking these steps, hotels can increase customer satisfaction, build strong relationships with customers, and ultimately reduce cancellations."
   ]
  },
  {
   "attachments": {},
   "cell_type": "markdown",
   "metadata": {},
   "source": [
    "# Conclusion\n",
    "\n",
    "Why should we use the machine learning model for our daily operation?\n",
    "\n",
    "- There are several ways in which your machine learning model can increase your profit:\n",
    "\n",
    "    - Improved customer retention: By accurately predicting customer cancellations, you can proactively address potential issues and retain customers who might have otherwise cancelled.\n",
    "\n",
    "    - Improved decision making: The insights and predictions generated by the model can inform and guide your business decisions, reducing the risk of costly mistakes and increasing overall profitability.\n",
    "\n",
    "    - Enhanced marketing and promotions: The model can help you identify and target high-value customers, increasing the effectiveness of your marketing and promotional efforts.\n",
    "\n",
    "By leveraging the power of machine learning, you can gain a competitive advantage, streamline operations, and increase profits.\n",
    "\n",
    "it's also important to note that while machine learning can be a powerful tool for increasing profits, it's important to use it ethically and responsibly. Ensure that you are transparent with customers about how their data is being used and obtain their consent when necessary. Additionally, make sure that your model is fair, unbiased, and does not discriminate against any particular group of people.\n",
    "By following these ethical principles, you can not only increase profits, but also build trust and credibility with your customers, partners, and stakeholders.\n",
    "\n"
   ]
  },
  {
   "attachments": {},
   "cell_type": "markdown",
   "metadata": {},
   "source": [
    " ---\n",
    " ---\n",
    " # Save Model"
   ]
  },
  {
   "cell_type": "code",
   "execution_count": 93,
   "metadata": {},
   "outputs": [
    {
     "data": {
      "text/plain": [
       "{'transformer__pipe_poly_scaling__scaling': RobustScaler(),\n",
       " 'transformer__pipe_poly_scaling__poly__degree': 1,\n",
       " 'sampling': RandomUnderSampler(),\n",
       " 'model__subsample': 0.9,\n",
       " 'model__min_child_weight': 3,\n",
       " 'model__max_depth': 38,\n",
       " 'model__gamma': 0.2,\n",
       " 'model__colsample_bytree': 0.8}"
      ]
     },
     "execution_count": 93,
     "metadata": {},
     "output_type": "execute_result"
    }
   ],
   "source": [
    "randomsearch_xg.best_params_"
   ]
  },
  {
   "cell_type": "code",
   "execution_count": 90,
   "metadata": {},
   "outputs": [],
   "source": [
    "import pickle\n",
    "\n",
    "model = XGBClassifier(max_depth=38, gamma=0.2, colsample_bytree = 0.8, min_child_weight=3,subsample=0.9)\n",
    "\n",
    "pipe_model = Pipeline([\n",
    "    \n",
    "])"
   ]
  }
 ],
 "metadata": {
  "kernelspec": {
   "display_name": "Python 3",
   "language": "python",
   "name": "python3"
  },
  "language_info": {
   "codemirror_mode": {
    "name": "ipython",
    "version": 3
   },
   "file_extension": ".py",
   "mimetype": "text/x-python",
   "name": "python",
   "nbconvert_exporter": "python",
   "pygments_lexer": "ipython3",
   "version": "3.11.0"
  },
  "orig_nbformat": 4,
  "vscode": {
   "interpreter": {
    "hash": "de47f5c92c0ee6f12a59a5613ac5feff6aab19ddff207ba0b3964cced08c4ccc"
   }
  }
 },
 "nbformat": 4,
 "nbformat_minor": 2
}
